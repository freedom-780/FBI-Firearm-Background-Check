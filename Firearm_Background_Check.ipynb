{
  "nbformat": 4,
  "nbformat_minor": 0,
  "metadata": {
    "kernelspec": {
      "display_name": "Python 3",
      "language": "python",
      "name": "python3"
    },
    "language_info": {
      "codemirror_mode": {
        "name": "ipython",
        "version": 3
      },
      "file_extension": ".py",
      "mimetype": "text/x-python",
      "name": "python",
      "nbconvert_exporter": "python",
      "pygments_lexer": "ipython3",
      "version": "3.8.5"
    },
    "colab": {
      "name": "Firearm Background Check.ipynb",
      "provenance": [],
      "include_colab_link": true
    }
  },
  "cells": [
    {
      "cell_type": "markdown",
      "metadata": {
        "id": "view-in-github",
        "colab_type": "text"
      },
      "source": [
        "<a href=\"https://colab.research.google.com/github/freedom-780/FBI-Firearm-Background-Check/blob/main/Firearm_Background_Check.ipynb\" target=\"_parent\"><img src=\"https://colab.research.google.com/assets/colab-badge.svg\" alt=\"Open In Colab\"/></a>"
      ]
    },
    {
      "cell_type": "markdown",
      "metadata": {
        "id": "MPVWrgaQH9ki"
      },
      "source": [
        "<a id='intro'></a>\n",
        "## Introduction\n",
        "\n",
        "> The dataset from The National Instant Criminal Background Check System (NICS) is managed by the FBI  according to the Brady Handgun Violence Prevention Act of 1993 (Brady Act) -- fully implemented on Novemeber 30, 1998 -- and there are differences in state law in regards to requirements. Those that have valid ATF permits and for services and repair picked u by the same person don't require a background check. Data is collected with ATF Form 4473\n",
        "\n",
        "Types of background checks:\n",
        "\n",
        "* Handgun—(a) any firearm which has a short stock and is designed to be held and fired by the use of a single hand; and (b) any combination of parts from which a firearm described in paragraph (a) can be assembled.\n",
        "* Long Gun—a weapon designed or redesigned, made or remade, and intended to be fired from the shoulder, and designed or redesigned and made or remade to use the energy of the explosive in (a) a fixed metallic cartridge to fire a single projectile through a rifled bore for each single pull of the trigger; or (b) a fixed shotgun shell to fire through a smooth bore either a number of ball shot or a single projectile for each single pull of the trigger.\n",
        "* Other(might want to drop columns or check if they are outliers)—refers to frames, receivers, and other firearms that are neither handguns nor long guns (rifles or shotguns), such as firearms having a pistol grip that expel a shotgun shell, or National Firearms Act firearms, including silencers.\n",
        "\n",
        "Questions \n",
        "\n",
        "* Comparisons of regular gun sales to private gun sales?\n",
        "* which type of gun sale is increasing the most?\n",
        "* Any trends between type of gun ownership and mass shootings?(https://github.com/StanfordGeospatialCenter/MSA/tree/master/Data)\n",
        "* WHat are the trends in background checks and mass shootings for states with the weakest poklicies?\n",
        "* Are there any intresting overall trends, like spikes in gun ownership for certain periods of time such such as policy changes?\n",
        "* prices of guns and mass shootings?\n",
        "\n",
        "\n",
        "\n",
        "\n",
        "\n",
        "\n",
        "\n",
        "\n",
        "\n"
      ]
    },
    {
      "cell_type": "code",
      "metadata": {
        "collapsed": true,
        "id": "KvPn6EAXH9ki"
      },
      "source": [
        "# import packages \n",
        "import pandas as pd \n",
        "pd.options.display.float_format = '{:,.2f}'.format\n",
        "pd.set_option('display.width', 70)\n",
        "pd.set_option('display.max_columns', 8)\n",
        "import numpy as np\n",
        "import seaborn as sns \n",
        "import matplotlib.pyplot as plt\n",
        "%matplotlib inline\n",
        "\n"
      ],
      "execution_count": 99,
      "outputs": []
    },
    {
      "cell_type": "markdown",
      "metadata": {
        "id": "oqHiUFTvH9kj"
      },
      "source": [
        "<a id='wrangling'></a>\n",
        "## Data Wrangling\n",
        "\n",
        "> **Tip**: In this section of the report, you will load in the data, check for cleanliness, and then trim and clean your dataset for analysis. Make sure that you document your steps carefully and justify your cleaning decisions.\n",
        "\n",
        "### General Properties"
      ]
    },
    {
      "cell_type": "code",
      "metadata": {
        "collapsed": true,
        "id": "OHvBkDFgH9kj"
      },
      "source": [
        "# Load data and print out a few lines. Perform operations to inspect data\n",
        "\n",
        "gun_data = \"https://github.com/freedom-780/FBI-Firearm-Background-Check/blob/main/gun_data.xlsx?raw=true\"\n",
        "gun_background_check = pd.read_excel(gun_data)\n",
        "\n",
        "standford_msa = \"https://raw.githubusercontent.com/freedom-780/FBI-Firearm-Background-Check/main/Stanford_MSA_Database.csv\"\n",
        "mass_shootings = pd.read_csv(standford_msa)\n",
        "\n",
        "\n",
        "\n",
        "\n"
      ],
      "execution_count": null,
      "outputs": []
    },
    {
      "cell_type": "code",
      "metadata": {
        "colab": {
          "base_uri": "https://localhost:8080/"
        },
        "id": "uTEu0OU2EXiX",
        "outputId": "bca74788-91ed-467d-f197-d6a2ec2dbccd"
      },
      "source": [
        "gun_background_check.columns"
      ],
      "execution_count": null,
      "outputs": [
        {
          "output_type": "execute_result",
          "data": {
            "text/plain": [
              "Index(['month', 'state', 'permit', 'permit_recheck', 'handgun', 'long_gun', 'other',\n",
              "       'multiple', 'admin', 'prepawn_handgun', 'prepawn_long_gun', 'prepawn_other',\n",
              "       'redemption_handgun', 'redemption_long_gun', 'redemption_other',\n",
              "       'returned_handgun', 'returned_long_gun', 'returned_other', 'rentals_handgun',\n",
              "       'rentals_long_gun', 'private_sale_handgun', 'private_sale_long_gun',\n",
              "       'private_sale_other', 'return_to_seller_handgun',\n",
              "       'return_to_seller_long_gun', 'return_to_seller_other', 'totals'],\n",
              "      dtype='object')"
            ]
          },
          "metadata": {
            "tags": []
          },
          "execution_count": 89
        }
      ]
    },
    {
      "cell_type": "code",
      "metadata": {
        "colab": {
          "base_uri": "https://localhost:8080/"
        },
        "id": "8o1NRDsj4mDI",
        "outputId": "8791474f-5de0-4e60-a995-6ecb626bdd3a"
      },
      "source": [
        "mass_shootings.columns"
      ],
      "execution_count": null,
      "outputs": [
        {
          "output_type": "execute_result",
          "data": {
            "text/plain": [
              "Index(['CaseID', 'Title', 'Location', 'City', 'State', 'Latitude', 'Longitude',\n",
              "       'Number of Civilian Fatalities', 'Number of Civilian Injured',\n",
              "       'Number of Enforcement Fatalities', 'Number of Enforcement Injured',\n",
              "       'Total Number of Fatalities', 'Total Number of Victims', 'Description',\n",
              "       'Date', 'Day of Week', 'Date - Detailed', 'Shooter Name',\n",
              "       'Number of shooters', 'Shooter Age(s)', 'Average Shooter Age', 'Shooter Sex',\n",
              "       'Shooter Race', 'Type of Gun - Detailed', 'Type of Gun - General',\n",
              "       'Number of Shotguns', 'Number of Rifles', 'Number of Handguns',\n",
              "       'Total Number of Guns', 'Number of Automatic Guns',\n",
              "       'Number of Semi-Automatic Guns', 'Fate of Shooter at the scene',\n",
              "       'Fate of Shooter', 'Shooter's Cause of Death', 'School Related',\n",
              "       'Place Type', 'Relationship to Incident Location',\n",
              "       'Targeted Victim/s - Detailed', 'Targeted Victim/s - General',\n",
              "       'Possible Motive - Detailed', 'Possible Motive - General',\n",
              "       'History of Mental Illness - Detailed',\n",
              "       'History of Mental Illness - General', 'Data Source 1', 'Data Source 2',\n",
              "       'Data Source 3', 'Data Source 4', 'Data Source 5', 'Data Source 6',\n",
              "       'Data Source 7', 'Military Experience', 'Class', 'Depreciation', 'Notes',\n",
              "       'Edit Date'],\n",
              "      dtype='object')"
            ]
          },
          "metadata": {
            "tags": []
          },
          "execution_count": 90
        }
      ]
    },
    {
      "cell_type": "markdown",
      "metadata": {
        "id": "H4dfaZBDUgjQ"
      },
      "source": [
        "Disgard the columns not needs for analysis. \n",
        "\n",
        "For the background check 'month', 'state, 'handgun', 'long_gun', 'other', 'multiple',private_sale_handgun', 'private_sale_long_gun', 'private_sale_other', 'totals' data only the columns most useful for the analysis are\n",
        "\n",
        "For mass shooting: "
      ]
    },
    {
      "cell_type": "code",
      "metadata": {
        "id": "-b-q-tifX6OV"
      },
      "source": [
        "# drop columns that are not needed\n",
        "gun_background_check.drop(gun_background_check.columns.difference(['month', 'state', 'handgun', 'long_gun', 'other', 'multiple', 'private_sale_handgun', 'private_sale_long_gun', 'private_sale_other', 'totals']), 1, inplace=True)"
      ],
      "execution_count": null,
      "outputs": []
    },
    {
      "cell_type": "code",
      "metadata": {
        "colab": {
          "base_uri": "https://localhost:8080/"
        },
        "id": "tWxli7ADiQ7U",
        "outputId": "3dd03b14-306c-4259-e2a2-e376c9c57f99"
      },
      "source": [
        "gun_background_check.columns"
      ],
      "execution_count": null,
      "outputs": [
        {
          "output_type": "execute_result",
          "data": {
            "text/plain": [
              "Index(['month', 'state', 'handgun', 'long_gun', 'other', 'multiple',\n",
              "       'private_sale_handgun', 'private_sale_long_gun', 'private_sale_other',\n",
              "       'totals'],\n",
              "      dtype='object')"
            ]
          },
          "metadata": {
            "tags": []
          },
          "execution_count": 92
        }
      ]
    },
    {
      "cell_type": "code",
      "metadata": {
        "colab": {
          "base_uri": "https://localhost:8080/"
        },
        "id": "81iE1EhPidKK",
        "outputId": "a69c5199-5967-46c8-b533-dc92c27927ea"
      },
      "source": [
        "gun_background_check.info()"
      ],
      "execution_count": null,
      "outputs": [
        {
          "output_type": "stream",
          "text": [
            "<class 'pandas.core.frame.DataFrame'>\n",
            "RangeIndex: 12485 entries, 0 to 12484\n",
            "Data columns (total 10 columns):\n",
            " #   Column                 Non-Null Count  Dtype  \n",
            "---  ------                 --------------  -----  \n",
            " 0   month                  12485 non-null  object \n",
            " 1   state                  12485 non-null  object \n",
            " 2   handgun                12465 non-null  float64\n",
            " 3   long_gun               12466 non-null  float64\n",
            " 4   other                  5500 non-null   float64\n",
            " 5   multiple               12485 non-null  int64  \n",
            " 6   private_sale_handgun   2750 non-null   float64\n",
            " 7   private_sale_long_gun  2750 non-null   float64\n",
            " 8   private_sale_other     2750 non-null   float64\n",
            " 9   totals                 12485 non-null  int64  \n",
            "dtypes: float64(6), int64(2), object(2)\n",
            "memory usage: 975.5+ KB\n"
          ],
          "name": "stdout"
        }
      ]
    },
    {
      "cell_type": "markdown",
      "metadata": {
        "id": "-lYgItljX-4w"
      },
      "source": [
        ""
      ]
    },
    {
      "cell_type": "code",
      "metadata": {
        "id": "c298TvQ25IN5"
      },
      "source": [
        "mass_shootings.drop(mass_shootings.columns.difference(['State','Date','Type of Gun - General','Number of Shotguns','Number of Rifles','Number of Handguns','Total Number of Guns','Number of Automatic Guns','Number of Semi-Automatic Guns','Possible Motive - General','History of Mental Illness - General']), 1, inplace=True)"
      ],
      "execution_count": null,
      "outputs": []
    },
    {
      "cell_type": "code",
      "metadata": {
        "colab": {
          "base_uri": "https://localhost:8080/"
        },
        "id": "QCWOXGY159hA",
        "outputId": "4c932838-b633-4b48-fd39-4741d53946c3"
      },
      "source": [
        "mass_shootings.columns"
      ],
      "execution_count": null,
      "outputs": [
        {
          "output_type": "execute_result",
          "data": {
            "text/plain": [
              "Index(['State', 'Date', 'Type of Gun - General', 'Number of Shotguns',\n",
              "       'Number of Rifles', 'Number of Handguns', 'Total Number of Guns',\n",
              "       'Number of Automatic Guns', 'Number of Semi-Automatic Guns',\n",
              "       'Possible Motive - General', 'History of Mental Illness - General'],\n",
              "      dtype='object')"
            ]
          },
          "metadata": {
            "tags": []
          },
          "execution_count": 95
        }
      ]
    },
    {
      "cell_type": "code",
      "metadata": {
        "colab": {
          "base_uri": "https://localhost:8080/"
        },
        "id": "NFLuPVOh5Cax",
        "outputId": "c2068227-1117-46e7-e605-80322bbb309e"
      },
      "source": [
        "mass_shootings.info()"
      ],
      "execution_count": null,
      "outputs": [
        {
          "output_type": "stream",
          "text": [
            "<class 'pandas.core.frame.DataFrame'>\n",
            "RangeIndex: 335 entries, 0 to 334\n",
            "Data columns (total 11 columns):\n",
            " #   Column                               Non-Null Count  Dtype \n",
            "---  ------                               --------------  ----- \n",
            " 0   State                                335 non-null    object\n",
            " 1   Date                                 335 non-null    object\n",
            " 2   Type of Gun - General                335 non-null    object\n",
            " 3   Number of Shotguns                   335 non-null    object\n",
            " 4   Number of Rifles                     335 non-null    object\n",
            " 5   Number of Handguns                   335 non-null    object\n",
            " 6   Total Number of Guns                 335 non-null    object\n",
            " 7   Number of Automatic Guns             335 non-null    object\n",
            " 8   Number of Semi-Automatic Guns        335 non-null    object\n",
            " 9   Possible Motive - General            333 non-null    object\n",
            " 10  History of Mental Illness - General  335 non-null    object\n",
            "dtypes: object(11)\n",
            "memory usage: 28.9+ KB\n"
          ],
          "name": "stdout"
        }
      ]
    },
    {
      "cell_type": "code",
      "metadata": {
        "id": "OCCYMm2ZOUEa"
      },
      "source": [
        "mass_change_dtype = {'Number of Shotguns': 'float64', \n",
        "                     'Number of Rifles': 'float64', \n",
        "                     'Total Number of Guns': 'float64',\n",
        "                     'Number of Automatic Guns': 'float64',\n",
        "                     'Number of Semi-Automatic Guns': 'float64'\n",
        "                     }"
      ],
      "execution_count": null,
      "outputs": []
    },
    {
      "cell_type": "code",
      "metadata": {
        "colab": {
          "base_uri": "https://localhost:8080/",
          "height": 302
        },
        "id": "9odLbjsusF5P",
        "outputId": "906f92ca-430a-40ea-8779-ddf3dd78cb7a"
      },
      "source": [
        "mass_shootings.astype(mass_change_dtype)"
      ],
      "execution_count": null,
      "outputs": [
        {
          "output_type": "error",
          "ename": "ValueError",
          "evalue": "ignored",
          "traceback": [
            "\u001b[0;31m---------------------------------------------------------------------------\u001b[0m",
            "\u001b[0;31mValueError\u001b[0m                                Traceback (most recent call last)",
            "\u001b[0;32m<ipython-input-98-6e42041789ce>\u001b[0m in \u001b[0;36m<module>\u001b[0;34m()\u001b[0m\n\u001b[0;32m----> 1\u001b[0;31m \u001b[0mmass_shootings\u001b[0m\u001b[0;34m.\u001b[0m\u001b[0mastype\u001b[0m\u001b[0;34m(\u001b[0m\u001b[0mmass_change_dtype\u001b[0m\u001b[0;34m)\u001b[0m\u001b[0;34m\u001b[0m\u001b[0;34m\u001b[0m\u001b[0m\n\u001b[0m",
            "\u001b[0;32m/usr/local/lib/python3.7/dist-packages/pandas/core/generic.py\u001b[0m in \u001b[0;36mastype\u001b[0;34m(self, dtype, copy, errors)\u001b[0m\n\u001b[1;32m   5531\u001b[0m                 \u001b[0;32mif\u001b[0m \u001b[0mcol_name\u001b[0m \u001b[0;32min\u001b[0m \u001b[0mdtype\u001b[0m\u001b[0;34m:\u001b[0m\u001b[0;34m\u001b[0m\u001b[0;34m\u001b[0m\u001b[0m\n\u001b[1;32m   5532\u001b[0m                     results.append(\n\u001b[0;32m-> 5533\u001b[0;31m                         \u001b[0mcol\u001b[0m\u001b[0;34m.\u001b[0m\u001b[0mastype\u001b[0m\u001b[0;34m(\u001b[0m\u001b[0mdtype\u001b[0m\u001b[0;34m=\u001b[0m\u001b[0mdtype\u001b[0m\u001b[0;34m[\u001b[0m\u001b[0mcol_name\u001b[0m\u001b[0;34m]\u001b[0m\u001b[0;34m,\u001b[0m \u001b[0mcopy\u001b[0m\u001b[0;34m=\u001b[0m\u001b[0mcopy\u001b[0m\u001b[0;34m,\u001b[0m \u001b[0merrors\u001b[0m\u001b[0;34m=\u001b[0m\u001b[0merrors\u001b[0m\u001b[0;34m)\u001b[0m\u001b[0;34m\u001b[0m\u001b[0;34m\u001b[0m\u001b[0m\n\u001b[0m\u001b[1;32m   5534\u001b[0m                     )\n\u001b[1;32m   5535\u001b[0m                 \u001b[0;32melse\u001b[0m\u001b[0;34m:\u001b[0m\u001b[0;34m\u001b[0m\u001b[0;34m\u001b[0m\u001b[0m\n",
            "\u001b[0;32m/usr/local/lib/python3.7/dist-packages/pandas/core/generic.py\u001b[0m in \u001b[0;36mastype\u001b[0;34m(self, dtype, copy, errors)\u001b[0m\n\u001b[1;32m   5546\u001b[0m         \u001b[0;32melse\u001b[0m\u001b[0;34m:\u001b[0m\u001b[0;34m\u001b[0m\u001b[0;34m\u001b[0m\u001b[0m\n\u001b[1;32m   5547\u001b[0m             \u001b[0;31m# else, only a single dtype is given\u001b[0m\u001b[0;34m\u001b[0m\u001b[0;34m\u001b[0m\u001b[0;34m\u001b[0m\u001b[0m\n\u001b[0;32m-> 5548\u001b[0;31m             \u001b[0mnew_data\u001b[0m \u001b[0;34m=\u001b[0m \u001b[0mself\u001b[0m\u001b[0;34m.\u001b[0m\u001b[0m_mgr\u001b[0m\u001b[0;34m.\u001b[0m\u001b[0mastype\u001b[0m\u001b[0;34m(\u001b[0m\u001b[0mdtype\u001b[0m\u001b[0;34m=\u001b[0m\u001b[0mdtype\u001b[0m\u001b[0;34m,\u001b[0m \u001b[0mcopy\u001b[0m\u001b[0;34m=\u001b[0m\u001b[0mcopy\u001b[0m\u001b[0;34m,\u001b[0m \u001b[0merrors\u001b[0m\u001b[0;34m=\u001b[0m\u001b[0merrors\u001b[0m\u001b[0;34m,\u001b[0m\u001b[0;34m)\u001b[0m\u001b[0;34m\u001b[0m\u001b[0;34m\u001b[0m\u001b[0m\n\u001b[0m\u001b[1;32m   5549\u001b[0m             \u001b[0;32mreturn\u001b[0m \u001b[0mself\u001b[0m\u001b[0;34m.\u001b[0m\u001b[0m_constructor\u001b[0m\u001b[0;34m(\u001b[0m\u001b[0mnew_data\u001b[0m\u001b[0;34m)\u001b[0m\u001b[0;34m.\u001b[0m\u001b[0m__finalize__\u001b[0m\u001b[0;34m(\u001b[0m\u001b[0mself\u001b[0m\u001b[0;34m,\u001b[0m \u001b[0mmethod\u001b[0m\u001b[0;34m=\u001b[0m\u001b[0;34m\"astype\"\u001b[0m\u001b[0;34m)\u001b[0m\u001b[0;34m\u001b[0m\u001b[0;34m\u001b[0m\u001b[0m\n\u001b[1;32m   5550\u001b[0m \u001b[0;34m\u001b[0m\u001b[0m\n",
            "\u001b[0;32m/usr/local/lib/python3.7/dist-packages/pandas/core/internals/managers.py\u001b[0m in \u001b[0;36mastype\u001b[0;34m(self, dtype, copy, errors)\u001b[0m\n\u001b[1;32m    602\u001b[0m         \u001b[0mself\u001b[0m\u001b[0;34m,\u001b[0m \u001b[0mdtype\u001b[0m\u001b[0;34m,\u001b[0m \u001b[0mcopy\u001b[0m\u001b[0;34m:\u001b[0m \u001b[0mbool\u001b[0m \u001b[0;34m=\u001b[0m \u001b[0;32mFalse\u001b[0m\u001b[0;34m,\u001b[0m \u001b[0merrors\u001b[0m\u001b[0;34m:\u001b[0m \u001b[0mstr\u001b[0m \u001b[0;34m=\u001b[0m \u001b[0;34m\"raise\"\u001b[0m\u001b[0;34m\u001b[0m\u001b[0;34m\u001b[0m\u001b[0m\n\u001b[1;32m    603\u001b[0m     ) -> \"BlockManager\":\n\u001b[0;32m--> 604\u001b[0;31m         \u001b[0;32mreturn\u001b[0m \u001b[0mself\u001b[0m\u001b[0;34m.\u001b[0m\u001b[0mapply\u001b[0m\u001b[0;34m(\u001b[0m\u001b[0;34m\"astype\"\u001b[0m\u001b[0;34m,\u001b[0m \u001b[0mdtype\u001b[0m\u001b[0;34m=\u001b[0m\u001b[0mdtype\u001b[0m\u001b[0;34m,\u001b[0m \u001b[0mcopy\u001b[0m\u001b[0;34m=\u001b[0m\u001b[0mcopy\u001b[0m\u001b[0;34m,\u001b[0m \u001b[0merrors\u001b[0m\u001b[0;34m=\u001b[0m\u001b[0merrors\u001b[0m\u001b[0;34m)\u001b[0m\u001b[0;34m\u001b[0m\u001b[0;34m\u001b[0m\u001b[0m\n\u001b[0m\u001b[1;32m    605\u001b[0m \u001b[0;34m\u001b[0m\u001b[0m\n\u001b[1;32m    606\u001b[0m     def convert(\n",
            "\u001b[0;32m/usr/local/lib/python3.7/dist-packages/pandas/core/internals/managers.py\u001b[0m in \u001b[0;36mapply\u001b[0;34m(self, f, align_keys, **kwargs)\u001b[0m\n\u001b[1;32m    407\u001b[0m                 \u001b[0mapplied\u001b[0m \u001b[0;34m=\u001b[0m \u001b[0mb\u001b[0m\u001b[0;34m.\u001b[0m\u001b[0mapply\u001b[0m\u001b[0;34m(\u001b[0m\u001b[0mf\u001b[0m\u001b[0;34m,\u001b[0m \u001b[0;34m**\u001b[0m\u001b[0mkwargs\u001b[0m\u001b[0;34m)\u001b[0m\u001b[0;34m\u001b[0m\u001b[0;34m\u001b[0m\u001b[0m\n\u001b[1;32m    408\u001b[0m             \u001b[0;32melse\u001b[0m\u001b[0;34m:\u001b[0m\u001b[0;34m\u001b[0m\u001b[0;34m\u001b[0m\u001b[0m\n\u001b[0;32m--> 409\u001b[0;31m                 \u001b[0mapplied\u001b[0m \u001b[0;34m=\u001b[0m \u001b[0mgetattr\u001b[0m\u001b[0;34m(\u001b[0m\u001b[0mb\u001b[0m\u001b[0;34m,\u001b[0m \u001b[0mf\u001b[0m\u001b[0;34m)\u001b[0m\u001b[0;34m(\u001b[0m\u001b[0;34m**\u001b[0m\u001b[0mkwargs\u001b[0m\u001b[0;34m)\u001b[0m\u001b[0;34m\u001b[0m\u001b[0;34m\u001b[0m\u001b[0m\n\u001b[0m\u001b[1;32m    410\u001b[0m             \u001b[0mresult_blocks\u001b[0m \u001b[0;34m=\u001b[0m \u001b[0m_extend_blocks\u001b[0m\u001b[0;34m(\u001b[0m\u001b[0mapplied\u001b[0m\u001b[0;34m,\u001b[0m \u001b[0mresult_blocks\u001b[0m\u001b[0;34m)\u001b[0m\u001b[0;34m\u001b[0m\u001b[0;34m\u001b[0m\u001b[0m\n\u001b[1;32m    411\u001b[0m \u001b[0;34m\u001b[0m\u001b[0m\n",
            "\u001b[0;32m/usr/local/lib/python3.7/dist-packages/pandas/core/internals/blocks.py\u001b[0m in \u001b[0;36mastype\u001b[0;34m(self, dtype, copy, errors)\u001b[0m\n\u001b[1;32m    593\u001b[0m             \u001b[0mvals1d\u001b[0m \u001b[0;34m=\u001b[0m \u001b[0mvalues\u001b[0m\u001b[0;34m.\u001b[0m\u001b[0mravel\u001b[0m\u001b[0;34m(\u001b[0m\u001b[0;34m)\u001b[0m\u001b[0;34m\u001b[0m\u001b[0;34m\u001b[0m\u001b[0m\n\u001b[1;32m    594\u001b[0m             \u001b[0;32mtry\u001b[0m\u001b[0;34m:\u001b[0m\u001b[0;34m\u001b[0m\u001b[0;34m\u001b[0m\u001b[0m\n\u001b[0;32m--> 595\u001b[0;31m                 \u001b[0mvalues\u001b[0m \u001b[0;34m=\u001b[0m \u001b[0mastype_nansafe\u001b[0m\u001b[0;34m(\u001b[0m\u001b[0mvals1d\u001b[0m\u001b[0;34m,\u001b[0m \u001b[0mdtype\u001b[0m\u001b[0;34m,\u001b[0m \u001b[0mcopy\u001b[0m\u001b[0;34m=\u001b[0m\u001b[0;32mTrue\u001b[0m\u001b[0;34m)\u001b[0m\u001b[0;34m\u001b[0m\u001b[0;34m\u001b[0m\u001b[0m\n\u001b[0m\u001b[1;32m    596\u001b[0m             \u001b[0;32mexcept\u001b[0m \u001b[0;34m(\u001b[0m\u001b[0mValueError\u001b[0m\u001b[0;34m,\u001b[0m \u001b[0mTypeError\u001b[0m\u001b[0;34m)\u001b[0m\u001b[0;34m:\u001b[0m\u001b[0;34m\u001b[0m\u001b[0;34m\u001b[0m\u001b[0m\n\u001b[1;32m    597\u001b[0m                 \u001b[0;31m# e.g. astype_nansafe can fail on object-dtype of strings\u001b[0m\u001b[0;34m\u001b[0m\u001b[0;34m\u001b[0m\u001b[0;34m\u001b[0m\u001b[0m\n",
            "\u001b[0;32m/usr/local/lib/python3.7/dist-packages/pandas/core/dtypes/cast.py\u001b[0m in \u001b[0;36mastype_nansafe\u001b[0;34m(arr, dtype, copy, skipna)\u001b[0m\n\u001b[1;32m    995\u001b[0m     \u001b[0;32mif\u001b[0m \u001b[0mcopy\u001b[0m \u001b[0;32mor\u001b[0m \u001b[0mis_object_dtype\u001b[0m\u001b[0;34m(\u001b[0m\u001b[0marr\u001b[0m\u001b[0;34m)\u001b[0m \u001b[0;32mor\u001b[0m \u001b[0mis_object_dtype\u001b[0m\u001b[0;34m(\u001b[0m\u001b[0mdtype\u001b[0m\u001b[0;34m)\u001b[0m\u001b[0;34m:\u001b[0m\u001b[0;34m\u001b[0m\u001b[0;34m\u001b[0m\u001b[0m\n\u001b[1;32m    996\u001b[0m         \u001b[0;31m# Explicit copy, or required since NumPy can't view from / to object.\u001b[0m\u001b[0;34m\u001b[0m\u001b[0;34m\u001b[0m\u001b[0;34m\u001b[0m\u001b[0m\n\u001b[0;32m--> 997\u001b[0;31m         \u001b[0;32mreturn\u001b[0m \u001b[0marr\u001b[0m\u001b[0;34m.\u001b[0m\u001b[0mastype\u001b[0m\u001b[0;34m(\u001b[0m\u001b[0mdtype\u001b[0m\u001b[0;34m,\u001b[0m \u001b[0mcopy\u001b[0m\u001b[0;34m=\u001b[0m\u001b[0;32mTrue\u001b[0m\u001b[0;34m)\u001b[0m\u001b[0;34m\u001b[0m\u001b[0;34m\u001b[0m\u001b[0m\n\u001b[0m\u001b[1;32m    998\u001b[0m \u001b[0;34m\u001b[0m\u001b[0m\n\u001b[1;32m    999\u001b[0m     \u001b[0;32mreturn\u001b[0m \u001b[0marr\u001b[0m\u001b[0;34m.\u001b[0m\u001b[0mview\u001b[0m\u001b[0;34m(\u001b[0m\u001b[0mdtype\u001b[0m\u001b[0;34m)\u001b[0m\u001b[0;34m\u001b[0m\u001b[0;34m\u001b[0m\u001b[0m\n",
            "\u001b[0;31mValueError\u001b[0m: could not convert string to float: 'Unknown'"
          ]
        }
      ]
    },
    {
      "cell_type": "markdown",
      "metadata": {
        "id": "pMgc_ZSzE_4i"
      },
      "source": [
        ""
      ]
    },
    {
      "cell_type": "code",
      "metadata": {
        "id": "995x3bpS6ZW7"
      },
      "source": [
        "for i in mass_shootings:\n",
        "  mass_shootings.drop(mass_shootings.index[mass_shootings[i] == 'Unknown'], inplace = True)\n",
        "  mass_shootings.drop(mass_shootings.index[mass_shootings[i] == '0 (1)'], inplace = True)\n"
      ],
      "execution_count": 104,
      "outputs": []
    },
    {
      "cell_type": "code",
      "metadata": {
        "id": "lqqdyMFA64YZ"
      },
      "source": [
        "mass_shootings = mass_shootings.astype(mass_change_dtype)"
      ],
      "execution_count": 107,
      "outputs": []
    },
    {
      "cell_type": "code",
      "metadata": {
        "colab": {
          "base_uri": "https://localhost:8080/"
        },
        "id": "Nmreeqcd7ZrP",
        "outputId": "0b38fc55-537c-4385-ca30-712b7dbb90a6"
      },
      "source": [
        "mass_shootings.info()"
      ],
      "execution_count": 108,
      "outputs": [
        {
          "output_type": "stream",
          "text": [
            "<class 'pandas.core.frame.DataFrame'>\n",
            "Int64Index: 146 entries, 0 to 333\n",
            "Data columns (total 11 columns):\n",
            " #   Column                               Non-Null Count  Dtype  \n",
            "---  ------                               --------------  -----  \n",
            " 0   State                                146 non-null    object \n",
            " 1   Date                                 146 non-null    object \n",
            " 2   Type of Gun - General                146 non-null    object \n",
            " 3   Number of Shotguns                   146 non-null    float64\n",
            " 4   Number of Rifles                     146 non-null    float64\n",
            " 5   Number of Handguns                   146 non-null    object \n",
            " 6   Total Number of Guns                 146 non-null    float64\n",
            " 7   Number of Automatic Guns             146 non-null    float64\n",
            " 8   Number of Semi-Automatic Guns        146 non-null    float64\n",
            " 9   Possible Motive - General            146 non-null    object \n",
            " 10  History of Mental Illness - General  146 non-null    object \n",
            "dtypes: float64(5), object(6)\n",
            "memory usage: 18.7+ KB\n"
          ],
          "name": "stdout"
        }
      ]
    },
    {
      "cell_type": "markdown",
      "metadata": {
        "id": "l3jSIevD5vlJ"
      },
      "source": [
        "for the mass shootings database, the following colu"
      ]
    },
    {
      "cell_type": "code",
      "metadata": {
        "id": "hh99fnOFv93w",
        "colab": {
          "base_uri": "https://localhost:8080/"
        },
        "outputId": "e87bf8ec-f805-4bf7-9f78-e307b2ae950f"
      },
      "source": [
        "# print statistics about permit data \n",
        "\n",
        "print(f\"Shape of permit data: {gun_background_check.shape}\")\n",
        "print(f\"Number of mission values in permit data: \\\n",
        "{gun_background_check.isnull().sum().sum()}\")\n",
        "print(f\"Number of duplicate values in permit data: \\\n",
        "{gun_background_check.duplicated().sum()}\")"
      ],
      "execution_count": null,
      "outputs": [
        {
          "output_type": "stream",
          "text": [
            "Shape of permit data: (12485, 10)\n",
            "Number of mission values in permit data: 36229\n",
            "Number of duplicate values in permit data: 0\n"
          ],
          "name": "stdout"
        }
      ]
    },
    {
      "cell_type": "code",
      "metadata": {
        "colab": {
          "base_uri": "https://localhost:8080/"
        },
        "id": "m3SiWp-YvEyO",
        "outputId": "33c0b04d-04e6-4d06-eaf0-3b0a8dd57eb2"
      },
      "source": [
        "gun_background_check.isnull().sum()"
      ],
      "execution_count": null,
      "outputs": [
        {
          "output_type": "execute_result",
          "data": {
            "text/plain": [
              "month                       0\n",
              "state                       0\n",
              "handgun                    20\n",
              "long_gun                   19\n",
              "other                    6985\n",
              "multiple                    0\n",
              "private_sale_handgun     9735\n",
              "private_sale_long_gun    9735\n",
              "private_sale_other       9735\n",
              "totals                      0\n",
              "dtype: int64"
            ]
          },
          "metadata": {
            "tags": []
          },
          "execution_count": 86
        }
      ]
    },
    {
      "cell_type": "code",
      "metadata": {
        "colab": {
          "base_uri": "https://localhost:8080/"
        },
        "id": "mzycQ2SpAWzj",
        "outputId": "9653ff3b-2520-4c2a-eb68-05a0c28068ce"
      },
      "source": [
        "# print statistics about mass shootings data\n",
        "\n",
        "print(f\"Shape of mass shooting data: {mass_shootings.shape}\")\n",
        "print(f\"Number of mission values in mass shooting data: \\\n",
        "{mass_shootings.isnull().sum().sum()}\")\n",
        "print(f\"Number of duplicate values in mass shooting data: \\\n",
        "{mass_shootings.duplicated().sum()}\")"
      ],
      "execution_count": null,
      "outputs": [
        {
          "output_type": "stream",
          "text": [
            "Shape of mass shooting data: (335, 11)\n",
            "Number of mission values in mass shooting data: 2\n",
            "Number of duplicate values in mass shooting data: 1\n"
          ],
          "name": "stdout"
        }
      ]
    },
    {
      "cell_type": "code",
      "metadata": {
        "colab": {
          "base_uri": "https://localhost:8080/"
        },
        "id": "PjuR8X40M-7z",
        "outputId": "1527b295-0fc3-4c69-b220-cee38b6c0650"
      },
      "source": [
        "mass_shootings.isnull().any()"
      ],
      "execution_count": null,
      "outputs": [
        {
          "output_type": "execute_result",
          "data": {
            "text/plain": [
              "State                                  False\n",
              "Date                                   False\n",
              "Type of Gun - General                  False\n",
              "Number of Shotguns                     False\n",
              "Number of Rifles                       False\n",
              "Number of Handguns                     False\n",
              "Total Number of Guns                   False\n",
              "Number of Automatic Guns               False\n",
              "Number of Semi-Automatic Guns          False\n",
              "Possible Motive - General               True\n",
              "History of Mental Illness - General    False\n",
              "dtype: bool"
            ]
          },
          "metadata": {
            "tags": []
          },
          "execution_count": 65
        }
      ]
    },
    {
      "cell_type": "code",
      "metadata": {
        "colab": {
          "base_uri": "https://localhost:8080/"
        },
        "id": "Ui7377y0FNMj",
        "outputId": "6b652f56-458e-42a5-867a-75a2c145c399"
      },
      "source": [
        "mass_shootings_data.info()"
      ],
      "execution_count": null,
      "outputs": [
        {
          "output_type": "stream",
          "text": [
            "<class 'pandas.core.frame.DataFrame'>\n",
            "RangeIndex: 335 entries, 0 to 334\n",
            "Data columns (total 55 columns):\n",
            " #   Column                                Non-Null Count  Dtype  \n",
            "---  ------                                --------------  -----  \n",
            " 0   CaseID                                335 non-null    int64  \n",
            " 1   Title                                 335 non-null    object \n",
            " 2   Location                              335 non-null    object \n",
            " 3   City                                  335 non-null    object \n",
            " 4   State                                 335 non-null    object \n",
            " 5   Latitude                              335 non-null    float64\n",
            " 6   Longitude                             335 non-null    float64\n",
            " 7   Number of Civilian Fatalities         335 non-null    int64  \n",
            " 8   Number of Civilian Injured            335 non-null    int64  \n",
            " 9   Number of Enforcement Fatalities      335 non-null    int64  \n",
            " 10  Number of Enforcement Injured         335 non-null    int64  \n",
            " 11  Total Number of Fatalities            335 non-null    int64  \n",
            " 12  Total Number of Victims               335 non-null    int64  \n",
            " 13  Description                           335 non-null    object \n",
            " 14  Date                                  335 non-null    object \n",
            " 15  Day of Week                           335 non-null    object \n",
            " 16  Date - Detailed                       335 non-null    object \n",
            " 17  Shooter Name                          335 non-null    object \n",
            " 18  Number of shooters                    332 non-null    object \n",
            " 19  Shooter Age(s)                        335 non-null    object \n",
            " 20  Average Shooter Age                   335 non-null    object \n",
            " 21  Shooter Sex                           335 non-null    object \n",
            " 22  Shooter Race                          335 non-null    object \n",
            " 23  Type of Gun - Detailed                329 non-null    object \n",
            " 24  Type of Gun - General                 335 non-null    object \n",
            " 25  Number of Shotguns                    335 non-null    object \n",
            " 26  Number of Rifles                      335 non-null    object \n",
            " 27  Number of Handguns                    335 non-null    object \n",
            " 28  Total Number of Guns                  335 non-null    object \n",
            " 29  Number of Automatic Guns              335 non-null    object \n",
            " 30  Number of Semi-Automatic Guns         335 non-null    object \n",
            " 31  Fate of Shooter at the scene          335 non-null    object \n",
            " 32  Fate of Shooter                       333 non-null    object \n",
            " 33  Shooter's Cause of Death              335 non-null    object \n",
            " 34  School Related                        335 non-null    object \n",
            " 35  Place Type                            335 non-null    object \n",
            " 36  Relationship to Incident Location     333 non-null    object \n",
            " 37  Targeted Victim/s - Detailed          335 non-null    object \n",
            " 38  Targeted Victim/s - General           334 non-null    object \n",
            " 39  Possible Motive - Detailed            334 non-null    object \n",
            " 40  Possible Motive - General             333 non-null    object \n",
            " 41  History of Mental Illness - Detailed  335 non-null    object \n",
            " 42  History of Mental Illness - General   335 non-null    object \n",
            " 43  Data Source 1                         335 non-null    object \n",
            " 44  Data Source 2                         333 non-null    object \n",
            " 45  Data Source 3                         324 non-null    object \n",
            " 46  Data Source 4                         255 non-null    object \n",
            " 47  Data Source 5                         142 non-null    object \n",
            " 48  Data Source 6                         68 non-null     object \n",
            " 49  Data Source 7                         75 non-null     object \n",
            " 50  Military Experience                   335 non-null    object \n",
            " 51  Class                                 335 non-null    object \n",
            " 52  Depreciation                          335 non-null    int64  \n",
            " 53  Notes                                 5 non-null      object \n",
            " 54  Edit Date                             335 non-null    object \n",
            "dtypes: float64(2), int64(8), object(45)\n",
            "memory usage: 144.1+ KB\n"
          ],
          "name": "stdout"
        }
      ]
    },
    {
      "cell_type": "code",
      "metadata": {
        "colab": {
          "base_uri": "https://localhost:8080/"
        },
        "id": "yzf3kIU3EclO",
        "outputId": "408e7028-7a76-446a-9c0f-d20fcea87bd6"
      },
      "source": [
        "mass_shootings_data.columns"
      ],
      "execution_count": null,
      "outputs": [
        {
          "output_type": "execute_result",
          "data": {
            "text/plain": [
              "Index(['CaseID', 'Title', 'Location', 'City', 'State', 'Latitude', 'Longitude',\n",
              "       'Number of Civilian Fatalities', 'Number of Civilian Injured',\n",
              "       'Number of Enforcement Fatalities', 'Number of Enforcement Injured',\n",
              "       'Total Number of Fatalities', 'Total Number of Victims', 'Description',\n",
              "       'Date', 'Day of Week', 'Date - Detailed', 'Shooter Name',\n",
              "       'Number of shooters', 'Shooter Age(s)', 'Average Shooter Age',\n",
              "       'Shooter Sex', 'Shooter Race', 'Type of Gun - Detailed',\n",
              "       'Type of Gun - General', 'Number of Shotguns', 'Number of Rifles',\n",
              "       'Number of Handguns', 'Total Number of Guns',\n",
              "       'Number of Automatic Guns', 'Number of Semi-Automatic Guns',\n",
              "       'Fate of Shooter at the scene', 'Fate of Shooter',\n",
              "       'Shooter's Cause of Death', 'School Related', 'Place Type',\n",
              "       'Relationship to Incident Location', 'Targeted Victim/s - Detailed',\n",
              "       'Targeted Victim/s - General', 'Possible Motive - Detailed',\n",
              "       'Possible Motive - General', 'History of Mental Illness - Detailed',\n",
              "       'History of Mental Illness - General', 'Data Source 1', 'Data Source 2',\n",
              "       'Data Source 3', 'Data Source 4', 'Data Source 5', 'Data Source 6',\n",
              "       'Data Source 7', 'Military Experience', 'Class', 'Depreciation',\n",
              "       'Notes', 'Edit Date'],\n",
              "      dtype='object')"
            ]
          },
          "metadata": {
            "tags": []
          },
          "execution_count": 8
        }
      ]
    },
    {
      "cell_type": "code",
      "metadata": {
        "colab": {
          "base_uri": "https://localhost:8080/"
        },
        "id": "tuTuOkqxlhOl",
        "outputId": "22b47798-1dab-491e-812b-8c9226c0e37c"
      },
      "source": [
        "us_census_data.columns\n"
      ],
      "execution_count": null,
      "outputs": [
        {
          "output_type": "execute_result",
          "data": {
            "text/plain": [
              "Index(['Fact', 'Fact Note', 'Alabama', 'Alaska', 'Arizona', 'Arkansas',\n",
              "       'California', 'Colorado', 'Connecticut', 'Delaware', 'Florida',\n",
              "       'Georgia', 'Hawaii', 'Idaho', 'Illinois', 'Indiana', 'Iowa', 'Kansas',\n",
              "       'Kentucky', 'Louisiana', 'Maine', 'Maryland', 'Massachusetts',\n",
              "       'Michigan', 'Minnesota', 'Mississippi', 'Missouri', 'Montana',\n",
              "       'Nebraska', 'Nevada', 'New Hampshire', 'New Jersey', 'New Mexico',\n",
              "       'New York', 'North Carolina', 'North Dakota', 'Ohio', 'Oklahoma',\n",
              "       'Oregon', 'Pennsylvania', 'Rhode Island', 'South Carolina',\n",
              "       'South Dakota', 'Tennessee', 'Texas', 'Utah', 'Vermont', 'Virginia',\n",
              "       'Washington', 'West Virginia', 'Wisconsin', 'Wyoming'],\n",
              "      dtype='object')"
            ]
          },
          "metadata": {
            "tags": []
          },
          "execution_count": 8
        }
      ]
    },
    {
      "cell_type": "code",
      "metadata": {
        "colab": {
          "base_uri": "https://localhost:8080/",
          "height": 533
        },
        "id": "qec5ZvGgGDBl",
        "outputId": "368ebbe8-9107-42c4-d963-6547250b830c"
      },
      "source": [
        "permit_data.head(10)\n"
      ],
      "execution_count": null,
      "outputs": [
        {
          "output_type": "execute_result",
          "data": {
            "text/html": [
              "<div>\n",
              "<style scoped>\n",
              "    .dataframe tbody tr th:only-of-type {\n",
              "        vertical-align: middle;\n",
              "    }\n",
              "\n",
              "    .dataframe tbody tr th {\n",
              "        vertical-align: top;\n",
              "    }\n",
              "\n",
              "    .dataframe thead th {\n",
              "        text-align: right;\n",
              "    }\n",
              "</style>\n",
              "<table border=\"1\" class=\"dataframe\">\n",
              "  <thead>\n",
              "    <tr style=\"text-align: right;\">\n",
              "      <th></th>\n",
              "      <th>month</th>\n",
              "      <th>state</th>\n",
              "      <th>permit</th>\n",
              "      <th>permit_recheck</th>\n",
              "      <th>handgun</th>\n",
              "      <th>long_gun</th>\n",
              "      <th>other</th>\n",
              "      <th>multiple</th>\n",
              "      <th>admin</th>\n",
              "      <th>prepawn_handgun</th>\n",
              "      <th>prepawn_long_gun</th>\n",
              "      <th>prepawn_other</th>\n",
              "      <th>redemption_handgun</th>\n",
              "      <th>redemption_long_gun</th>\n",
              "      <th>redemption_other</th>\n",
              "      <th>returned_handgun</th>\n",
              "      <th>returned_long_gun</th>\n",
              "      <th>returned_other</th>\n",
              "      <th>rentals_handgun</th>\n",
              "      <th>rentals_long_gun</th>\n",
              "      <th>private_sale_handgun</th>\n",
              "      <th>private_sale_long_gun</th>\n",
              "      <th>private_sale_other</th>\n",
              "      <th>return_to_seller_handgun</th>\n",
              "      <th>return_to_seller_long_gun</th>\n",
              "      <th>return_to_seller_other</th>\n",
              "      <th>totals</th>\n",
              "    </tr>\n",
              "  </thead>\n",
              "  <tbody>\n",
              "    <tr>\n",
              "      <th>0</th>\n",
              "      <td>2017-09</td>\n",
              "      <td>Alabama</td>\n",
              "      <td>16717.0</td>\n",
              "      <td>0.0</td>\n",
              "      <td>5734.0</td>\n",
              "      <td>6320.0</td>\n",
              "      <td>221.0</td>\n",
              "      <td>317</td>\n",
              "      <td>0.0</td>\n",
              "      <td>15.0</td>\n",
              "      <td>21.0</td>\n",
              "      <td>2.0</td>\n",
              "      <td>1378.0</td>\n",
              "      <td>1262.0</td>\n",
              "      <td>1.0</td>\n",
              "      <td>0.0</td>\n",
              "      <td>0.0</td>\n",
              "      <td>0.0</td>\n",
              "      <td>0.0</td>\n",
              "      <td>0.0</td>\n",
              "      <td>9.0</td>\n",
              "      <td>16.0</td>\n",
              "      <td>3.0</td>\n",
              "      <td>0.0</td>\n",
              "      <td>0.0</td>\n",
              "      <td>3.0</td>\n",
              "      <td>32019</td>\n",
              "    </tr>\n",
              "    <tr>\n",
              "      <th>1</th>\n",
              "      <td>2017-09</td>\n",
              "      <td>Alaska</td>\n",
              "      <td>209.0</td>\n",
              "      <td>2.0</td>\n",
              "      <td>2320.0</td>\n",
              "      <td>2930.0</td>\n",
              "      <td>219.0</td>\n",
              "      <td>160</td>\n",
              "      <td>0.0</td>\n",
              "      <td>5.0</td>\n",
              "      <td>2.0</td>\n",
              "      <td>0.0</td>\n",
              "      <td>200.0</td>\n",
              "      <td>154.0</td>\n",
              "      <td>2.0</td>\n",
              "      <td>28.0</td>\n",
              "      <td>30.0</td>\n",
              "      <td>0.0</td>\n",
              "      <td>0.0</td>\n",
              "      <td>0.0</td>\n",
              "      <td>17.0</td>\n",
              "      <td>24.0</td>\n",
              "      <td>1.0</td>\n",
              "      <td>0.0</td>\n",
              "      <td>0.0</td>\n",
              "      <td>0.0</td>\n",
              "      <td>6303</td>\n",
              "    </tr>\n",
              "    <tr>\n",
              "      <th>2</th>\n",
              "      <td>2017-09</td>\n",
              "      <td>Arizona</td>\n",
              "      <td>5069.0</td>\n",
              "      <td>382.0</td>\n",
              "      <td>11063.0</td>\n",
              "      <td>7946.0</td>\n",
              "      <td>920.0</td>\n",
              "      <td>631</td>\n",
              "      <td>0.0</td>\n",
              "      <td>13.0</td>\n",
              "      <td>6.0</td>\n",
              "      <td>0.0</td>\n",
              "      <td>1474.0</td>\n",
              "      <td>748.0</td>\n",
              "      <td>3.0</td>\n",
              "      <td>82.0</td>\n",
              "      <td>5.0</td>\n",
              "      <td>0.0</td>\n",
              "      <td>0.0</td>\n",
              "      <td>0.0</td>\n",
              "      <td>38.0</td>\n",
              "      <td>12.0</td>\n",
              "      <td>2.0</td>\n",
              "      <td>0.0</td>\n",
              "      <td>0.0</td>\n",
              "      <td>0.0</td>\n",
              "      <td>28394</td>\n",
              "    </tr>\n",
              "    <tr>\n",
              "      <th>3</th>\n",
              "      <td>2017-09</td>\n",
              "      <td>Arkansas</td>\n",
              "      <td>2935.0</td>\n",
              "      <td>632.0</td>\n",
              "      <td>4347.0</td>\n",
              "      <td>6063.0</td>\n",
              "      <td>165.0</td>\n",
              "      <td>366</td>\n",
              "      <td>51.0</td>\n",
              "      <td>12.0</td>\n",
              "      <td>13.0</td>\n",
              "      <td>0.0</td>\n",
              "      <td>1296.0</td>\n",
              "      <td>1824.0</td>\n",
              "      <td>4.0</td>\n",
              "      <td>0.0</td>\n",
              "      <td>0.0</td>\n",
              "      <td>0.0</td>\n",
              "      <td>0.0</td>\n",
              "      <td>0.0</td>\n",
              "      <td>13.0</td>\n",
              "      <td>23.0</td>\n",
              "      <td>0.0</td>\n",
              "      <td>0.0</td>\n",
              "      <td>2.0</td>\n",
              "      <td>1.0</td>\n",
              "      <td>17747</td>\n",
              "    </tr>\n",
              "    <tr>\n",
              "      <th>4</th>\n",
              "      <td>2017-09</td>\n",
              "      <td>California</td>\n",
              "      <td>57839.0</td>\n",
              "      <td>0.0</td>\n",
              "      <td>37165.0</td>\n",
              "      <td>24581.0</td>\n",
              "      <td>2984.0</td>\n",
              "      <td>0</td>\n",
              "      <td>0.0</td>\n",
              "      <td>0.0</td>\n",
              "      <td>0.0</td>\n",
              "      <td>0.0</td>\n",
              "      <td>535.0</td>\n",
              "      <td>397.0</td>\n",
              "      <td>5.0</td>\n",
              "      <td>0.0</td>\n",
              "      <td>0.0</td>\n",
              "      <td>0.0</td>\n",
              "      <td>0.0</td>\n",
              "      <td>0.0</td>\n",
              "      <td>0.0</td>\n",
              "      <td>0.0</td>\n",
              "      <td>0.0</td>\n",
              "      <td>0.0</td>\n",
              "      <td>0.0</td>\n",
              "      <td>0.0</td>\n",
              "      <td>123506</td>\n",
              "    </tr>\n",
              "    <tr>\n",
              "      <th>5</th>\n",
              "      <td>2017-09</td>\n",
              "      <td>Colorado</td>\n",
              "      <td>4356.0</td>\n",
              "      <td>0.0</td>\n",
              "      <td>15751.0</td>\n",
              "      <td>13448.0</td>\n",
              "      <td>1007.0</td>\n",
              "      <td>1062</td>\n",
              "      <td>0.0</td>\n",
              "      <td>0.0</td>\n",
              "      <td>0.0</td>\n",
              "      <td>0.0</td>\n",
              "      <td>0.0</td>\n",
              "      <td>0.0</td>\n",
              "      <td>0.0</td>\n",
              "      <td>202.0</td>\n",
              "      <td>46.0</td>\n",
              "      <td>1.0</td>\n",
              "      <td>0.0</td>\n",
              "      <td>0.0</td>\n",
              "      <td>0.0</td>\n",
              "      <td>0.0</td>\n",
              "      <td>0.0</td>\n",
              "      <td>0.0</td>\n",
              "      <td>0.0</td>\n",
              "      <td>0.0</td>\n",
              "      <td>35873</td>\n",
              "    </tr>\n",
              "    <tr>\n",
              "      <th>6</th>\n",
              "      <td>2017-09</td>\n",
              "      <td>Connecticut</td>\n",
              "      <td>4343.0</td>\n",
              "      <td>673.0</td>\n",
              "      <td>4834.0</td>\n",
              "      <td>1993.0</td>\n",
              "      <td>274.0</td>\n",
              "      <td>0</td>\n",
              "      <td>0.0</td>\n",
              "      <td>0.0</td>\n",
              "      <td>0.0</td>\n",
              "      <td>0.0</td>\n",
              "      <td>0.0</td>\n",
              "      <td>0.0</td>\n",
              "      <td>0.0</td>\n",
              "      <td>0.0</td>\n",
              "      <td>0.0</td>\n",
              "      <td>0.0</td>\n",
              "      <td>0.0</td>\n",
              "      <td>0.0</td>\n",
              "      <td>0.0</td>\n",
              "      <td>0.0</td>\n",
              "      <td>0.0</td>\n",
              "      <td>0.0</td>\n",
              "      <td>0.0</td>\n",
              "      <td>0.0</td>\n",
              "      <td>12117</td>\n",
              "    </tr>\n",
              "    <tr>\n",
              "      <th>7</th>\n",
              "      <td>2017-09</td>\n",
              "      <td>Delaware</td>\n",
              "      <td>275.0</td>\n",
              "      <td>0.0</td>\n",
              "      <td>1414.0</td>\n",
              "      <td>1538.0</td>\n",
              "      <td>66.0</td>\n",
              "      <td>68</td>\n",
              "      <td>0.0</td>\n",
              "      <td>0.0</td>\n",
              "      <td>1.0</td>\n",
              "      <td>0.0</td>\n",
              "      <td>26.0</td>\n",
              "      <td>16.0</td>\n",
              "      <td>3.0</td>\n",
              "      <td>0.0</td>\n",
              "      <td>0.0</td>\n",
              "      <td>0.0</td>\n",
              "      <td>0.0</td>\n",
              "      <td>0.0</td>\n",
              "      <td>55.0</td>\n",
              "      <td>34.0</td>\n",
              "      <td>3.0</td>\n",
              "      <td>1.0</td>\n",
              "      <td>2.0</td>\n",
              "      <td>0.0</td>\n",
              "      <td>3502</td>\n",
              "    </tr>\n",
              "    <tr>\n",
              "      <th>8</th>\n",
              "      <td>2017-09</td>\n",
              "      <td>District of Columbia</td>\n",
              "      <td>1.0</td>\n",
              "      <td>0.0</td>\n",
              "      <td>56.0</td>\n",
              "      <td>4.0</td>\n",
              "      <td>0.0</td>\n",
              "      <td>0</td>\n",
              "      <td>0.0</td>\n",
              "      <td>0.0</td>\n",
              "      <td>0.0</td>\n",
              "      <td>0.0</td>\n",
              "      <td>0.0</td>\n",
              "      <td>0.0</td>\n",
              "      <td>0.0</td>\n",
              "      <td>0.0</td>\n",
              "      <td>0.0</td>\n",
              "      <td>0.0</td>\n",
              "      <td>0.0</td>\n",
              "      <td>0.0</td>\n",
              "      <td>0.0</td>\n",
              "      <td>0.0</td>\n",
              "      <td>0.0</td>\n",
              "      <td>0.0</td>\n",
              "      <td>0.0</td>\n",
              "      <td>0.0</td>\n",
              "      <td>61</td>\n",
              "    </tr>\n",
              "    <tr>\n",
              "      <th>9</th>\n",
              "      <td>2017-09</td>\n",
              "      <td>Florida</td>\n",
              "      <td>10784.0</td>\n",
              "      <td>0.0</td>\n",
              "      <td>39199.0</td>\n",
              "      <td>17949.0</td>\n",
              "      <td>2319.0</td>\n",
              "      <td>1721</td>\n",
              "      <td>1.0</td>\n",
              "      <td>18.0</td>\n",
              "      <td>7.0</td>\n",
              "      <td>0.0</td>\n",
              "      <td>3657.0</td>\n",
              "      <td>1416.0</td>\n",
              "      <td>6.0</td>\n",
              "      <td>264.0</td>\n",
              "      <td>28.0</td>\n",
              "      <td>0.0</td>\n",
              "      <td>0.0</td>\n",
              "      <td>0.0</td>\n",
              "      <td>11.0</td>\n",
              "      <td>9.0</td>\n",
              "      <td>0.0</td>\n",
              "      <td>0.0</td>\n",
              "      <td>1.0</td>\n",
              "      <td>0.0</td>\n",
              "      <td>77390</td>\n",
              "    </tr>\n",
              "  </tbody>\n",
              "</table>\n",
              "</div>"
            ],
            "text/plain": [
              "     month                 state  ...  return_to_seller_other  totals\n",
              "0  2017-09               Alabama  ...                     3.0   32019\n",
              "1  2017-09                Alaska  ...                     0.0    6303\n",
              "2  2017-09               Arizona  ...                     0.0   28394\n",
              "3  2017-09              Arkansas  ...                     1.0   17747\n",
              "4  2017-09            California  ...                     0.0  123506\n",
              "5  2017-09              Colorado  ...                     0.0   35873\n",
              "6  2017-09           Connecticut  ...                     0.0   12117\n",
              "7  2017-09              Delaware  ...                     0.0    3502\n",
              "8  2017-09  District of Columbia  ...                     0.0      61\n",
              "9  2017-09               Florida  ...                     0.0   77390\n",
              "\n",
              "[10 rows x 27 columns]"
            ]
          },
          "metadata": {
            "tags": []
          },
          "execution_count": 3
        }
      ]
    },
    {
      "cell_type": "code",
      "metadata": {
        "colab": {
          "base_uri": "https://localhost:8080/"
        },
        "id": "8KqGOet2CjUy",
        "outputId": "dd35c66c-bf9e-4f3a-fb74-e53ebe1bff91"
      },
      "source": [
        "print(f\"Shape of Permit Data: {permit_data.shape} \")\n"
      ],
      "execution_count": null,
      "outputs": [
        {
          "output_type": "stream",
          "text": [
            "Shape of Permit Data: (12485, 27) \n"
          ],
          "name": "stdout"
        }
      ]
    },
    {
      "cell_type": "code",
      "metadata": {
        "colab": {
          "base_uri": "https://localhost:8080/",
          "height": 793
        },
        "id": "gqxjdhQ4IOSJ",
        "outputId": "dae7d994-c003-492f-9505-6b892448e707"
      },
      "source": [
        "permit_data.describe().T"
      ],
      "execution_count": null,
      "outputs": [
        {
          "output_type": "execute_result",
          "data": {
            "text/html": [
              "<div>\n",
              "<style scoped>\n",
              "    .dataframe tbody tr th:only-of-type {\n",
              "        vertical-align: middle;\n",
              "    }\n",
              "\n",
              "    .dataframe tbody tr th {\n",
              "        vertical-align: top;\n",
              "    }\n",
              "\n",
              "    .dataframe thead th {\n",
              "        text-align: right;\n",
              "    }\n",
              "</style>\n",
              "<table border=\"1\" class=\"dataframe\">\n",
              "  <thead>\n",
              "    <tr style=\"text-align: right;\">\n",
              "      <th></th>\n",
              "      <th>count</th>\n",
              "      <th>mean</th>\n",
              "      <th>std</th>\n",
              "      <th>min</th>\n",
              "      <th>25%</th>\n",
              "      <th>50%</th>\n",
              "      <th>75%</th>\n",
              "      <th>max</th>\n",
              "    </tr>\n",
              "  </thead>\n",
              "  <tbody>\n",
              "    <tr>\n",
              "      <th>permit</th>\n",
              "      <td>12461.0</td>\n",
              "      <td>6413.629404</td>\n",
              "      <td>23752.338269</td>\n",
              "      <td>0.0</td>\n",
              "      <td>0.00</td>\n",
              "      <td>518.0</td>\n",
              "      <td>4272.00</td>\n",
              "      <td>522188.0</td>\n",
              "    </tr>\n",
              "    <tr>\n",
              "      <th>permit_recheck</th>\n",
              "      <td>1100.0</td>\n",
              "      <td>1165.956364</td>\n",
              "      <td>9224.200609</td>\n",
              "      <td>0.0</td>\n",
              "      <td>0.00</td>\n",
              "      <td>0.0</td>\n",
              "      <td>0.00</td>\n",
              "      <td>116681.0</td>\n",
              "    </tr>\n",
              "    <tr>\n",
              "      <th>handgun</th>\n",
              "      <td>12465.0</td>\n",
              "      <td>5940.881107</td>\n",
              "      <td>8618.584060</td>\n",
              "      <td>0.0</td>\n",
              "      <td>865.00</td>\n",
              "      <td>3059.0</td>\n",
              "      <td>7280.00</td>\n",
              "      <td>107224.0</td>\n",
              "    </tr>\n",
              "    <tr>\n",
              "      <th>long_gun</th>\n",
              "      <td>12466.0</td>\n",
              "      <td>7810.847585</td>\n",
              "      <td>9309.846140</td>\n",
              "      <td>0.0</td>\n",
              "      <td>2078.25</td>\n",
              "      <td>5122.0</td>\n",
              "      <td>10380.75</td>\n",
              "      <td>108058.0</td>\n",
              "    </tr>\n",
              "    <tr>\n",
              "      <th>other</th>\n",
              "      <td>5500.0</td>\n",
              "      <td>360.471636</td>\n",
              "      <td>1349.478273</td>\n",
              "      <td>0.0</td>\n",
              "      <td>17.00</td>\n",
              "      <td>121.0</td>\n",
              "      <td>354.00</td>\n",
              "      <td>77929.0</td>\n",
              "    </tr>\n",
              "    <tr>\n",
              "      <th>multiple</th>\n",
              "      <td>12485.0</td>\n",
              "      <td>268.603364</td>\n",
              "      <td>783.185073</td>\n",
              "      <td>0.0</td>\n",
              "      <td>15.00</td>\n",
              "      <td>125.0</td>\n",
              "      <td>301.00</td>\n",
              "      <td>38907.0</td>\n",
              "    </tr>\n",
              "    <tr>\n",
              "      <th>admin</th>\n",
              "      <td>12462.0</td>\n",
              "      <td>58.898090</td>\n",
              "      <td>604.814818</td>\n",
              "      <td>0.0</td>\n",
              "      <td>0.00</td>\n",
              "      <td>0.0</td>\n",
              "      <td>0.00</td>\n",
              "      <td>28083.0</td>\n",
              "    </tr>\n",
              "    <tr>\n",
              "      <th>prepawn_handgun</th>\n",
              "      <td>10542.0</td>\n",
              "      <td>4.828021</td>\n",
              "      <td>10.907756</td>\n",
              "      <td>0.0</td>\n",
              "      <td>0.00</td>\n",
              "      <td>0.0</td>\n",
              "      <td>5.00</td>\n",
              "      <td>164.0</td>\n",
              "    </tr>\n",
              "    <tr>\n",
              "      <th>prepawn_long_gun</th>\n",
              "      <td>10540.0</td>\n",
              "      <td>7.834156</td>\n",
              "      <td>16.468028</td>\n",
              "      <td>0.0</td>\n",
              "      <td>0.00</td>\n",
              "      <td>1.0</td>\n",
              "      <td>8.00</td>\n",
              "      <td>269.0</td>\n",
              "    </tr>\n",
              "    <tr>\n",
              "      <th>prepawn_other</th>\n",
              "      <td>5115.0</td>\n",
              "      <td>0.165591</td>\n",
              "      <td>1.057105</td>\n",
              "      <td>0.0</td>\n",
              "      <td>0.00</td>\n",
              "      <td>0.0</td>\n",
              "      <td>0.00</td>\n",
              "      <td>49.0</td>\n",
              "    </tr>\n",
              "    <tr>\n",
              "      <th>redemption_handgun</th>\n",
              "      <td>10545.0</td>\n",
              "      <td>407.970413</td>\n",
              "      <td>783.467053</td>\n",
              "      <td>0.0</td>\n",
              "      <td>0.00</td>\n",
              "      <td>39.0</td>\n",
              "      <td>561.00</td>\n",
              "      <td>10046.0</td>\n",
              "    </tr>\n",
              "    <tr>\n",
              "      <th>redemption_long_gun</th>\n",
              "      <td>10544.0</td>\n",
              "      <td>599.332417</td>\n",
              "      <td>952.144809</td>\n",
              "      <td>0.0</td>\n",
              "      <td>0.00</td>\n",
              "      <td>175.0</td>\n",
              "      <td>872.00</td>\n",
              "      <td>8831.0</td>\n",
              "    </tr>\n",
              "    <tr>\n",
              "      <th>redemption_other</th>\n",
              "      <td>5115.0</td>\n",
              "      <td>1.815249</td>\n",
              "      <td>4.574641</td>\n",
              "      <td>0.0</td>\n",
              "      <td>0.00</td>\n",
              "      <td>0.0</td>\n",
              "      <td>2.00</td>\n",
              "      <td>79.0</td>\n",
              "    </tr>\n",
              "    <tr>\n",
              "      <th>returned_handgun</th>\n",
              "      <td>2200.0</td>\n",
              "      <td>29.612727</td>\n",
              "      <td>81.943020</td>\n",
              "      <td>0.0</td>\n",
              "      <td>0.00</td>\n",
              "      <td>0.0</td>\n",
              "      <td>16.00</td>\n",
              "      <td>603.0</td>\n",
              "    </tr>\n",
              "    <tr>\n",
              "      <th>returned_long_gun</th>\n",
              "      <td>2145.0</td>\n",
              "      <td>7.557576</td>\n",
              "      <td>22.097046</td>\n",
              "      <td>0.0</td>\n",
              "      <td>0.00</td>\n",
              "      <td>0.0</td>\n",
              "      <td>4.00</td>\n",
              "      <td>168.0</td>\n",
              "    </tr>\n",
              "    <tr>\n",
              "      <th>returned_other</th>\n",
              "      <td>1815.0</td>\n",
              "      <td>1.027548</td>\n",
              "      <td>4.386296</td>\n",
              "      <td>0.0</td>\n",
              "      <td>0.00</td>\n",
              "      <td>0.0</td>\n",
              "      <td>0.00</td>\n",
              "      <td>64.0</td>\n",
              "    </tr>\n",
              "    <tr>\n",
              "      <th>rentals_handgun</th>\n",
              "      <td>990.0</td>\n",
              "      <td>0.076768</td>\n",
              "      <td>0.634503</td>\n",
              "      <td>0.0</td>\n",
              "      <td>0.00</td>\n",
              "      <td>0.0</td>\n",
              "      <td>0.00</td>\n",
              "      <td>12.0</td>\n",
              "    </tr>\n",
              "    <tr>\n",
              "      <th>rentals_long_gun</th>\n",
              "      <td>825.0</td>\n",
              "      <td>0.087273</td>\n",
              "      <td>0.671649</td>\n",
              "      <td>0.0</td>\n",
              "      <td>0.00</td>\n",
              "      <td>0.0</td>\n",
              "      <td>0.00</td>\n",
              "      <td>12.0</td>\n",
              "    </tr>\n",
              "    <tr>\n",
              "      <th>private_sale_handgun</th>\n",
              "      <td>2750.0</td>\n",
              "      <td>14.936000</td>\n",
              "      <td>71.216021</td>\n",
              "      <td>0.0</td>\n",
              "      <td>0.00</td>\n",
              "      <td>0.0</td>\n",
              "      <td>2.00</td>\n",
              "      <td>1017.0</td>\n",
              "    </tr>\n",
              "    <tr>\n",
              "      <th>private_sale_long_gun</th>\n",
              "      <td>2750.0</td>\n",
              "      <td>11.602909</td>\n",
              "      <td>54.253090</td>\n",
              "      <td>0.0</td>\n",
              "      <td>0.00</td>\n",
              "      <td>0.0</td>\n",
              "      <td>4.00</td>\n",
              "      <td>777.0</td>\n",
              "    </tr>\n",
              "    <tr>\n",
              "      <th>private_sale_other</th>\n",
              "      <td>2750.0</td>\n",
              "      <td>1.030182</td>\n",
              "      <td>4.467843</td>\n",
              "      <td>0.0</td>\n",
              "      <td>0.00</td>\n",
              "      <td>0.0</td>\n",
              "      <td>0.00</td>\n",
              "      <td>71.0</td>\n",
              "    </tr>\n",
              "    <tr>\n",
              "      <th>return_to_seller_handgun</th>\n",
              "      <td>2475.0</td>\n",
              "      <td>0.402020</td>\n",
              "      <td>1.446568</td>\n",
              "      <td>0.0</td>\n",
              "      <td>0.00</td>\n",
              "      <td>0.0</td>\n",
              "      <td>0.00</td>\n",
              "      <td>28.0</td>\n",
              "    </tr>\n",
              "    <tr>\n",
              "      <th>return_to_seller_long_gun</th>\n",
              "      <td>2750.0</td>\n",
              "      <td>0.441818</td>\n",
              "      <td>1.528223</td>\n",
              "      <td>0.0</td>\n",
              "      <td>0.00</td>\n",
              "      <td>0.0</td>\n",
              "      <td>0.00</td>\n",
              "      <td>17.0</td>\n",
              "    </tr>\n",
              "    <tr>\n",
              "      <th>return_to_seller_other</th>\n",
              "      <td>2255.0</td>\n",
              "      <td>0.105987</td>\n",
              "      <td>0.427363</td>\n",
              "      <td>0.0</td>\n",
              "      <td>0.00</td>\n",
              "      <td>0.0</td>\n",
              "      <td>0.00</td>\n",
              "      <td>4.0</td>\n",
              "    </tr>\n",
              "    <tr>\n",
              "      <th>totals</th>\n",
              "      <td>12485.0</td>\n",
              "      <td>21595.725911</td>\n",
              "      <td>32591.418387</td>\n",
              "      <td>0.0</td>\n",
              "      <td>4638.00</td>\n",
              "      <td>12399.0</td>\n",
              "      <td>25453.00</td>\n",
              "      <td>541978.0</td>\n",
              "    </tr>\n",
              "  </tbody>\n",
              "</table>\n",
              "</div>"
            ],
            "text/plain": [
              "                             count          mean  ...       75%       max\n",
              "permit                     12461.0   6413.629404  ...   4272.00  522188.0\n",
              "permit_recheck              1100.0   1165.956364  ...      0.00  116681.0\n",
              "handgun                    12465.0   5940.881107  ...   7280.00  107224.0\n",
              "long_gun                   12466.0   7810.847585  ...  10380.75  108058.0\n",
              "other                       5500.0    360.471636  ...    354.00   77929.0\n",
              "multiple                   12485.0    268.603364  ...    301.00   38907.0\n",
              "admin                      12462.0     58.898090  ...      0.00   28083.0\n",
              "prepawn_handgun            10542.0      4.828021  ...      5.00     164.0\n",
              "prepawn_long_gun           10540.0      7.834156  ...      8.00     269.0\n",
              "prepawn_other               5115.0      0.165591  ...      0.00      49.0\n",
              "redemption_handgun         10545.0    407.970413  ...    561.00   10046.0\n",
              "redemption_long_gun        10544.0    599.332417  ...    872.00    8831.0\n",
              "redemption_other            5115.0      1.815249  ...      2.00      79.0\n",
              "returned_handgun            2200.0     29.612727  ...     16.00     603.0\n",
              "returned_long_gun           2145.0      7.557576  ...      4.00     168.0\n",
              "returned_other              1815.0      1.027548  ...      0.00      64.0\n",
              "rentals_handgun              990.0      0.076768  ...      0.00      12.0\n",
              "rentals_long_gun             825.0      0.087273  ...      0.00      12.0\n",
              "private_sale_handgun        2750.0     14.936000  ...      2.00    1017.0\n",
              "private_sale_long_gun       2750.0     11.602909  ...      4.00     777.0\n",
              "private_sale_other          2750.0      1.030182  ...      0.00      71.0\n",
              "return_to_seller_handgun    2475.0      0.402020  ...      0.00      28.0\n",
              "return_to_seller_long_gun   2750.0      0.441818  ...      0.00      17.0\n",
              "return_to_seller_other      2255.0      0.105987  ...      0.00       4.0\n",
              "totals                     12485.0  21595.725911  ...  25453.00  541978.0\n",
              "\n",
              "[25 rows x 8 columns]"
            ]
          },
          "metadata": {
            "tags": []
          },
          "execution_count": 5
        }
      ]
    },
    {
      "cell_type": "markdown",
      "metadata": {
        "id": "nPZ1zmONQlxg"
      },
      "source": [
        "May want to change colums labels for U.S. census data and make it more concises  "
      ]
    },
    {
      "cell_type": "code",
      "metadata": {
        "id": "x0l330gtbYEs",
        "colab": {
          "base_uri": "https://localhost:8080/",
          "height": 592
        },
        "outputId": "745220e7-8607-447d-be17-8c706b97d8df"
      },
      "source": [
        "permit_data"
      ],
      "execution_count": null,
      "outputs": [
        {
          "output_type": "execute_result",
          "data": {
            "text/html": [
              "<div>\n",
              "<style scoped>\n",
              "    .dataframe tbody tr th:only-of-type {\n",
              "        vertical-align: middle;\n",
              "    }\n",
              "\n",
              "    .dataframe tbody tr th {\n",
              "        vertical-align: top;\n",
              "    }\n",
              "\n",
              "    .dataframe thead th {\n",
              "        text-align: right;\n",
              "    }\n",
              "</style>\n",
              "<table border=\"1\" class=\"dataframe\">\n",
              "  <thead>\n",
              "    <tr style=\"text-align: right;\">\n",
              "      <th></th>\n",
              "      <th>month</th>\n",
              "      <th>state</th>\n",
              "      <th>permit</th>\n",
              "      <th>permit_recheck</th>\n",
              "      <th>handgun</th>\n",
              "      <th>long_gun</th>\n",
              "      <th>other</th>\n",
              "      <th>multiple</th>\n",
              "      <th>admin</th>\n",
              "      <th>prepawn_handgun</th>\n",
              "      <th>prepawn_long_gun</th>\n",
              "      <th>prepawn_other</th>\n",
              "      <th>redemption_handgun</th>\n",
              "      <th>redemption_long_gun</th>\n",
              "      <th>redemption_other</th>\n",
              "      <th>returned_handgun</th>\n",
              "      <th>returned_long_gun</th>\n",
              "      <th>returned_other</th>\n",
              "      <th>rentals_handgun</th>\n",
              "      <th>rentals_long_gun</th>\n",
              "      <th>private_sale_handgun</th>\n",
              "      <th>private_sale_long_gun</th>\n",
              "      <th>private_sale_other</th>\n",
              "      <th>return_to_seller_handgun</th>\n",
              "      <th>return_to_seller_long_gun</th>\n",
              "      <th>return_to_seller_other</th>\n",
              "      <th>totals</th>\n",
              "    </tr>\n",
              "  </thead>\n",
              "  <tbody>\n",
              "    <tr>\n",
              "      <th>0</th>\n",
              "      <td>2017-09</td>\n",
              "      <td>Alabama</td>\n",
              "      <td>16717.0</td>\n",
              "      <td>0.0</td>\n",
              "      <td>5734.0</td>\n",
              "      <td>6320.0</td>\n",
              "      <td>221.0</td>\n",
              "      <td>317</td>\n",
              "      <td>0.0</td>\n",
              "      <td>15.0</td>\n",
              "      <td>21.0</td>\n",
              "      <td>2.0</td>\n",
              "      <td>1378.0</td>\n",
              "      <td>1262.0</td>\n",
              "      <td>1.0</td>\n",
              "      <td>0.0</td>\n",
              "      <td>0.0</td>\n",
              "      <td>0.0</td>\n",
              "      <td>0.0</td>\n",
              "      <td>0.0</td>\n",
              "      <td>9.0</td>\n",
              "      <td>16.0</td>\n",
              "      <td>3.0</td>\n",
              "      <td>0.0</td>\n",
              "      <td>0.0</td>\n",
              "      <td>3.0</td>\n",
              "      <td>32019</td>\n",
              "    </tr>\n",
              "    <tr>\n",
              "      <th>1</th>\n",
              "      <td>2017-09</td>\n",
              "      <td>Alaska</td>\n",
              "      <td>209.0</td>\n",
              "      <td>2.0</td>\n",
              "      <td>2320.0</td>\n",
              "      <td>2930.0</td>\n",
              "      <td>219.0</td>\n",
              "      <td>160</td>\n",
              "      <td>0.0</td>\n",
              "      <td>5.0</td>\n",
              "      <td>2.0</td>\n",
              "      <td>0.0</td>\n",
              "      <td>200.0</td>\n",
              "      <td>154.0</td>\n",
              "      <td>2.0</td>\n",
              "      <td>28.0</td>\n",
              "      <td>30.0</td>\n",
              "      <td>0.0</td>\n",
              "      <td>0.0</td>\n",
              "      <td>0.0</td>\n",
              "      <td>17.0</td>\n",
              "      <td>24.0</td>\n",
              "      <td>1.0</td>\n",
              "      <td>0.0</td>\n",
              "      <td>0.0</td>\n",
              "      <td>0.0</td>\n",
              "      <td>6303</td>\n",
              "    </tr>\n",
              "    <tr>\n",
              "      <th>2</th>\n",
              "      <td>2017-09</td>\n",
              "      <td>Arizona</td>\n",
              "      <td>5069.0</td>\n",
              "      <td>382.0</td>\n",
              "      <td>11063.0</td>\n",
              "      <td>7946.0</td>\n",
              "      <td>920.0</td>\n",
              "      <td>631</td>\n",
              "      <td>0.0</td>\n",
              "      <td>13.0</td>\n",
              "      <td>6.0</td>\n",
              "      <td>0.0</td>\n",
              "      <td>1474.0</td>\n",
              "      <td>748.0</td>\n",
              "      <td>3.0</td>\n",
              "      <td>82.0</td>\n",
              "      <td>5.0</td>\n",
              "      <td>0.0</td>\n",
              "      <td>0.0</td>\n",
              "      <td>0.0</td>\n",
              "      <td>38.0</td>\n",
              "      <td>12.0</td>\n",
              "      <td>2.0</td>\n",
              "      <td>0.0</td>\n",
              "      <td>0.0</td>\n",
              "      <td>0.0</td>\n",
              "      <td>28394</td>\n",
              "    </tr>\n",
              "    <tr>\n",
              "      <th>3</th>\n",
              "      <td>2017-09</td>\n",
              "      <td>Arkansas</td>\n",
              "      <td>2935.0</td>\n",
              "      <td>632.0</td>\n",
              "      <td>4347.0</td>\n",
              "      <td>6063.0</td>\n",
              "      <td>165.0</td>\n",
              "      <td>366</td>\n",
              "      <td>51.0</td>\n",
              "      <td>12.0</td>\n",
              "      <td>13.0</td>\n",
              "      <td>0.0</td>\n",
              "      <td>1296.0</td>\n",
              "      <td>1824.0</td>\n",
              "      <td>4.0</td>\n",
              "      <td>0.0</td>\n",
              "      <td>0.0</td>\n",
              "      <td>0.0</td>\n",
              "      <td>0.0</td>\n",
              "      <td>0.0</td>\n",
              "      <td>13.0</td>\n",
              "      <td>23.0</td>\n",
              "      <td>0.0</td>\n",
              "      <td>0.0</td>\n",
              "      <td>2.0</td>\n",
              "      <td>1.0</td>\n",
              "      <td>17747</td>\n",
              "    </tr>\n",
              "    <tr>\n",
              "      <th>4</th>\n",
              "      <td>2017-09</td>\n",
              "      <td>California</td>\n",
              "      <td>57839.0</td>\n",
              "      <td>0.0</td>\n",
              "      <td>37165.0</td>\n",
              "      <td>24581.0</td>\n",
              "      <td>2984.0</td>\n",
              "      <td>0</td>\n",
              "      <td>0.0</td>\n",
              "      <td>0.0</td>\n",
              "      <td>0.0</td>\n",
              "      <td>0.0</td>\n",
              "      <td>535.0</td>\n",
              "      <td>397.0</td>\n",
              "      <td>5.0</td>\n",
              "      <td>0.0</td>\n",
              "      <td>0.0</td>\n",
              "      <td>0.0</td>\n",
              "      <td>0.0</td>\n",
              "      <td>0.0</td>\n",
              "      <td>0.0</td>\n",
              "      <td>0.0</td>\n",
              "      <td>0.0</td>\n",
              "      <td>0.0</td>\n",
              "      <td>0.0</td>\n",
              "      <td>0.0</td>\n",
              "      <td>123506</td>\n",
              "    </tr>\n",
              "    <tr>\n",
              "      <th>...</th>\n",
              "      <td>...</td>\n",
              "      <td>...</td>\n",
              "      <td>...</td>\n",
              "      <td>...</td>\n",
              "      <td>...</td>\n",
              "      <td>...</td>\n",
              "      <td>...</td>\n",
              "      <td>...</td>\n",
              "      <td>...</td>\n",
              "      <td>...</td>\n",
              "      <td>...</td>\n",
              "      <td>...</td>\n",
              "      <td>...</td>\n",
              "      <td>...</td>\n",
              "      <td>...</td>\n",
              "      <td>...</td>\n",
              "      <td>...</td>\n",
              "      <td>...</td>\n",
              "      <td>...</td>\n",
              "      <td>...</td>\n",
              "      <td>...</td>\n",
              "      <td>...</td>\n",
              "      <td>...</td>\n",
              "      <td>...</td>\n",
              "      <td>...</td>\n",
              "      <td>...</td>\n",
              "      <td>...</td>\n",
              "    </tr>\n",
              "    <tr>\n",
              "      <th>12480</th>\n",
              "      <td>1998-11</td>\n",
              "      <td>Virginia</td>\n",
              "      <td>0.0</td>\n",
              "      <td>NaN</td>\n",
              "      <td>14.0</td>\n",
              "      <td>2.0</td>\n",
              "      <td>NaN</td>\n",
              "      <td>8</td>\n",
              "      <td>0.0</td>\n",
              "      <td>NaN</td>\n",
              "      <td>NaN</td>\n",
              "      <td>NaN</td>\n",
              "      <td>NaN</td>\n",
              "      <td>NaN</td>\n",
              "      <td>NaN</td>\n",
              "      <td>NaN</td>\n",
              "      <td>NaN</td>\n",
              "      <td>NaN</td>\n",
              "      <td>NaN</td>\n",
              "      <td>NaN</td>\n",
              "      <td>NaN</td>\n",
              "      <td>NaN</td>\n",
              "      <td>NaN</td>\n",
              "      <td>NaN</td>\n",
              "      <td>NaN</td>\n",
              "      <td>NaN</td>\n",
              "      <td>24</td>\n",
              "    </tr>\n",
              "    <tr>\n",
              "      <th>12481</th>\n",
              "      <td>1998-11</td>\n",
              "      <td>Washington</td>\n",
              "      <td>1.0</td>\n",
              "      <td>NaN</td>\n",
              "      <td>65.0</td>\n",
              "      <td>286.0</td>\n",
              "      <td>NaN</td>\n",
              "      <td>8</td>\n",
              "      <td>1.0</td>\n",
              "      <td>NaN</td>\n",
              "      <td>NaN</td>\n",
              "      <td>NaN</td>\n",
              "      <td>NaN</td>\n",
              "      <td>NaN</td>\n",
              "      <td>NaN</td>\n",
              "      <td>NaN</td>\n",
              "      <td>NaN</td>\n",
              "      <td>NaN</td>\n",
              "      <td>NaN</td>\n",
              "      <td>NaN</td>\n",
              "      <td>NaN</td>\n",
              "      <td>NaN</td>\n",
              "      <td>NaN</td>\n",
              "      <td>NaN</td>\n",
              "      <td>NaN</td>\n",
              "      <td>NaN</td>\n",
              "      <td>361</td>\n",
              "    </tr>\n",
              "    <tr>\n",
              "      <th>12482</th>\n",
              "      <td>1998-11</td>\n",
              "      <td>West Virginia</td>\n",
              "      <td>3.0</td>\n",
              "      <td>NaN</td>\n",
              "      <td>149.0</td>\n",
              "      <td>251.0</td>\n",
              "      <td>NaN</td>\n",
              "      <td>5</td>\n",
              "      <td>0.0</td>\n",
              "      <td>NaN</td>\n",
              "      <td>NaN</td>\n",
              "      <td>NaN</td>\n",
              "      <td>NaN</td>\n",
              "      <td>NaN</td>\n",
              "      <td>NaN</td>\n",
              "      <td>NaN</td>\n",
              "      <td>NaN</td>\n",
              "      <td>NaN</td>\n",
              "      <td>NaN</td>\n",
              "      <td>NaN</td>\n",
              "      <td>NaN</td>\n",
              "      <td>NaN</td>\n",
              "      <td>NaN</td>\n",
              "      <td>NaN</td>\n",
              "      <td>NaN</td>\n",
              "      <td>NaN</td>\n",
              "      <td>408</td>\n",
              "    </tr>\n",
              "    <tr>\n",
              "      <th>12483</th>\n",
              "      <td>1998-11</td>\n",
              "      <td>Wisconsin</td>\n",
              "      <td>0.0</td>\n",
              "      <td>NaN</td>\n",
              "      <td>25.0</td>\n",
              "      <td>214.0</td>\n",
              "      <td>NaN</td>\n",
              "      <td>2</td>\n",
              "      <td>0.0</td>\n",
              "      <td>NaN</td>\n",
              "      <td>NaN</td>\n",
              "      <td>NaN</td>\n",
              "      <td>NaN</td>\n",
              "      <td>NaN</td>\n",
              "      <td>NaN</td>\n",
              "      <td>NaN</td>\n",
              "      <td>NaN</td>\n",
              "      <td>NaN</td>\n",
              "      <td>NaN</td>\n",
              "      <td>NaN</td>\n",
              "      <td>NaN</td>\n",
              "      <td>NaN</td>\n",
              "      <td>NaN</td>\n",
              "      <td>NaN</td>\n",
              "      <td>NaN</td>\n",
              "      <td>NaN</td>\n",
              "      <td>241</td>\n",
              "    </tr>\n",
              "    <tr>\n",
              "      <th>12484</th>\n",
              "      <td>1998-11</td>\n",
              "      <td>Wyoming</td>\n",
              "      <td>8.0</td>\n",
              "      <td>NaN</td>\n",
              "      <td>45.0</td>\n",
              "      <td>49.0</td>\n",
              "      <td>NaN</td>\n",
              "      <td>5</td>\n",
              "      <td>0.0</td>\n",
              "      <td>NaN</td>\n",
              "      <td>NaN</td>\n",
              "      <td>NaN</td>\n",
              "      <td>NaN</td>\n",
              "      <td>NaN</td>\n",
              "      <td>NaN</td>\n",
              "      <td>NaN</td>\n",
              "      <td>NaN</td>\n",
              "      <td>NaN</td>\n",
              "      <td>NaN</td>\n",
              "      <td>NaN</td>\n",
              "      <td>NaN</td>\n",
              "      <td>NaN</td>\n",
              "      <td>NaN</td>\n",
              "      <td>NaN</td>\n",
              "      <td>NaN</td>\n",
              "      <td>NaN</td>\n",
              "      <td>107</td>\n",
              "    </tr>\n",
              "  </tbody>\n",
              "</table>\n",
              "<p>12485 rows × 27 columns</p>\n",
              "</div>"
            ],
            "text/plain": [
              "         month          state  ...  return_to_seller_other  totals\n",
              "0      2017-09        Alabama  ...                     3.0   32019\n",
              "1      2017-09         Alaska  ...                     0.0    6303\n",
              "2      2017-09        Arizona  ...                     0.0   28394\n",
              "3      2017-09       Arkansas  ...                     1.0   17747\n",
              "4      2017-09     California  ...                     0.0  123506\n",
              "...        ...            ...  ...                     ...     ...\n",
              "12480  1998-11       Virginia  ...                     NaN      24\n",
              "12481  1998-11     Washington  ...                     NaN     361\n",
              "12482  1998-11  West Virginia  ...                     NaN     408\n",
              "12483  1998-11      Wisconsin  ...                     NaN     241\n",
              "12484  1998-11        Wyoming  ...                     NaN     107\n",
              "\n",
              "[12485 rows x 27 columns]"
            ]
          },
          "metadata": {
            "tags": []
          },
          "execution_count": 6
        }
      ]
    },
    {
      "cell_type": "code",
      "metadata": {
        "colab": {
          "base_uri": "https://localhost:8080/",
          "height": 568
        },
        "id": "CzMT8nslPwxq",
        "outputId": "55827c87-a8cd-44ae-e9e1-30a7b3373e66"
      },
      "source": [
        "us_census_data.head()"
      ],
      "execution_count": null,
      "outputs": [
        {
          "output_type": "execute_result",
          "data": {
            "text/html": [
              "<div>\n",
              "<style scoped>\n",
              "    .dataframe tbody tr th:only-of-type {\n",
              "        vertical-align: middle;\n",
              "    }\n",
              "\n",
              "    .dataframe tbody tr th {\n",
              "        vertical-align: top;\n",
              "    }\n",
              "\n",
              "    .dataframe thead th {\n",
              "        text-align: right;\n",
              "    }\n",
              "</style>\n",
              "<table border=\"1\" class=\"dataframe\">\n",
              "  <thead>\n",
              "    <tr style=\"text-align: right;\">\n",
              "      <th></th>\n",
              "      <th>Fact</th>\n",
              "      <th>Fact Note</th>\n",
              "      <th>Alabama</th>\n",
              "      <th>Alaska</th>\n",
              "      <th>Arizona</th>\n",
              "      <th>Arkansas</th>\n",
              "      <th>California</th>\n",
              "      <th>Colorado</th>\n",
              "      <th>Connecticut</th>\n",
              "      <th>Delaware</th>\n",
              "      <th>Florida</th>\n",
              "      <th>Georgia</th>\n",
              "      <th>Hawaii</th>\n",
              "      <th>Idaho</th>\n",
              "      <th>Illinois</th>\n",
              "      <th>Indiana</th>\n",
              "      <th>Iowa</th>\n",
              "      <th>Kansas</th>\n",
              "      <th>Kentucky</th>\n",
              "      <th>Louisiana</th>\n",
              "      <th>Maine</th>\n",
              "      <th>Maryland</th>\n",
              "      <th>Massachusetts</th>\n",
              "      <th>Michigan</th>\n",
              "      <th>Minnesota</th>\n",
              "      <th>Mississippi</th>\n",
              "      <th>Missouri</th>\n",
              "      <th>Montana</th>\n",
              "      <th>Nebraska</th>\n",
              "      <th>Nevada</th>\n",
              "      <th>New Hampshire</th>\n",
              "      <th>New Jersey</th>\n",
              "      <th>New Mexico</th>\n",
              "      <th>New York</th>\n",
              "      <th>North Carolina</th>\n",
              "      <th>North Dakota</th>\n",
              "      <th>Ohio</th>\n",
              "      <th>Oklahoma</th>\n",
              "      <th>Oregon</th>\n",
              "      <th>Pennsylvania</th>\n",
              "      <th>Rhode Island</th>\n",
              "      <th>South Carolina</th>\n",
              "      <th>South Dakota</th>\n",
              "      <th>Tennessee</th>\n",
              "      <th>Texas</th>\n",
              "      <th>Utah</th>\n",
              "      <th>Vermont</th>\n",
              "      <th>Virginia</th>\n",
              "      <th>Washington</th>\n",
              "      <th>West Virginia</th>\n",
              "      <th>Wisconsin</th>\n",
              "      <th>Wyoming</th>\n",
              "    </tr>\n",
              "  </thead>\n",
              "  <tbody>\n",
              "    <tr>\n",
              "      <th>0</th>\n",
              "      <td>Population estimates, July 1, 2016,  (V2016)</td>\n",
              "      <td>NaN</td>\n",
              "      <td>4,863,300</td>\n",
              "      <td>741,894</td>\n",
              "      <td>6,931,071</td>\n",
              "      <td>2,988,248</td>\n",
              "      <td>39,250,017</td>\n",
              "      <td>5,540,545</td>\n",
              "      <td>3,576,452</td>\n",
              "      <td>952,065</td>\n",
              "      <td>20,612,439</td>\n",
              "      <td>10,310,371</td>\n",
              "      <td>1,428,557</td>\n",
              "      <td>1,683,140</td>\n",
              "      <td>12,801,539</td>\n",
              "      <td>6,633,053</td>\n",
              "      <td>3,134,693</td>\n",
              "      <td>2,907,289</td>\n",
              "      <td>4,436,974</td>\n",
              "      <td>4,681,666</td>\n",
              "      <td>1,331,479</td>\n",
              "      <td>6,016,447</td>\n",
              "      <td>6,811,779</td>\n",
              "      <td>9,928,300</td>\n",
              "      <td>5,519,952</td>\n",
              "      <td>2,988,726</td>\n",
              "      <td>6,093,000</td>\n",
              "      <td>1,042,520</td>\n",
              "      <td>1,907,116</td>\n",
              "      <td>2,940,058</td>\n",
              "      <td>1,334,795</td>\n",
              "      <td>8,944,469</td>\n",
              "      <td>2081015</td>\n",
              "      <td>19745289</td>\n",
              "      <td>10146788</td>\n",
              "      <td>757952</td>\n",
              "      <td>11614373</td>\n",
              "      <td>3923561</td>\n",
              "      <td>4093465</td>\n",
              "      <td>12784227</td>\n",
              "      <td>1056426</td>\n",
              "      <td>4961119</td>\n",
              "      <td>865454</td>\n",
              "      <td>6651194</td>\n",
              "      <td>27,862,596</td>\n",
              "      <td>3,051,217</td>\n",
              "      <td>624,594</td>\n",
              "      <td>8,411,808</td>\n",
              "      <td>7,288,000</td>\n",
              "      <td>1,831,102</td>\n",
              "      <td>5,778,708</td>\n",
              "      <td>585,501</td>\n",
              "    </tr>\n",
              "    <tr>\n",
              "      <th>1</th>\n",
              "      <td>Population estimates base, April 1, 2010,  (V2...</td>\n",
              "      <td>NaN</td>\n",
              "      <td>4,780,131</td>\n",
              "      <td>710,249</td>\n",
              "      <td>6,392,301</td>\n",
              "      <td>2,916,025</td>\n",
              "      <td>37,254,522</td>\n",
              "      <td>5,029,324</td>\n",
              "      <td>3,574,114</td>\n",
              "      <td>897,936</td>\n",
              "      <td>18,804,592</td>\n",
              "      <td>9,688,680</td>\n",
              "      <td>1,360,301</td>\n",
              "      <td>1,567,650</td>\n",
              "      <td>12,831,574</td>\n",
              "      <td>6,484,136</td>\n",
              "      <td>3,046,869</td>\n",
              "      <td>2,853,129</td>\n",
              "      <td>4,339,344</td>\n",
              "      <td>4,533,479</td>\n",
              "      <td>1,328,364</td>\n",
              "      <td>5,773,786</td>\n",
              "      <td>6,547,813</td>\n",
              "      <td>9,884,129</td>\n",
              "      <td>5,303,924</td>\n",
              "      <td>2,968,103</td>\n",
              "      <td>5,988,928</td>\n",
              "      <td>989,414</td>\n",
              "      <td>1,826,334</td>\n",
              "      <td>2,700,691</td>\n",
              "      <td>1,316,461</td>\n",
              "      <td>8,791,953</td>\n",
              "      <td>2059198</td>\n",
              "      <td>19378110</td>\n",
              "      <td>9535688</td>\n",
              "      <td>672591</td>\n",
              "      <td>11536727</td>\n",
              "      <td>3751615</td>\n",
              "      <td>3831072</td>\n",
              "      <td>12702857</td>\n",
              "      <td>1052940</td>\n",
              "      <td>4625410</td>\n",
              "      <td>814195</td>\n",
              "      <td>6346298</td>\n",
              "      <td>25,146,100</td>\n",
              "      <td>2,763,888</td>\n",
              "      <td>625,741</td>\n",
              "      <td>8,001,041</td>\n",
              "      <td>6,724,545</td>\n",
              "      <td>1,853,011</td>\n",
              "      <td>5,687,289</td>\n",
              "      <td>563,767</td>\n",
              "    </tr>\n",
              "    <tr>\n",
              "      <th>2</th>\n",
              "      <td>Population, percent change - April 1, 2010 (es...</td>\n",
              "      <td>NaN</td>\n",
              "      <td>1.70%</td>\n",
              "      <td>4.50%</td>\n",
              "      <td>8.40%</td>\n",
              "      <td>2.50%</td>\n",
              "      <td>5.40%</td>\n",
              "      <td>10.20%</td>\n",
              "      <td>0.10%</td>\n",
              "      <td>6.00%</td>\n",
              "      <td>9.60%</td>\n",
              "      <td>6.40%</td>\n",
              "      <td>5.00%</td>\n",
              "      <td>7.40%</td>\n",
              "      <td>-0.20%</td>\n",
              "      <td>2.30%</td>\n",
              "      <td>2.90%</td>\n",
              "      <td>1.90%</td>\n",
              "      <td>2.20%</td>\n",
              "      <td>3.30%</td>\n",
              "      <td>0.20%</td>\n",
              "      <td>4.20%</td>\n",
              "      <td>4.00%</td>\n",
              "      <td>0.40%</td>\n",
              "      <td>4.10%</td>\n",
              "      <td>0.70%</td>\n",
              "      <td>1.70%</td>\n",
              "      <td>5.40%</td>\n",
              "      <td>4.40%</td>\n",
              "      <td>8.90%</td>\n",
              "      <td>1.40%</td>\n",
              "      <td>1.70%</td>\n",
              "      <td>0.011</td>\n",
              "      <td>0.019</td>\n",
              "      <td>0.064</td>\n",
              "      <td>0.127</td>\n",
              "      <td>0.007</td>\n",
              "      <td>0.046</td>\n",
              "      <td>0.068</td>\n",
              "      <td>0.006</td>\n",
              "      <td>0.003</td>\n",
              "      <td>0.073</td>\n",
              "      <td>0.063</td>\n",
              "      <td>0.048</td>\n",
              "      <td>10.80%</td>\n",
              "      <td>10.40%</td>\n",
              "      <td>-0.20%</td>\n",
              "      <td>5.10%</td>\n",
              "      <td>8.40%</td>\n",
              "      <td>-1.20%</td>\n",
              "      <td>1.60%</td>\n",
              "      <td>3.90%</td>\n",
              "    </tr>\n",
              "    <tr>\n",
              "      <th>3</th>\n",
              "      <td>Population, Census, April 1, 2010</td>\n",
              "      <td>NaN</td>\n",
              "      <td>4,779,736</td>\n",
              "      <td>710,231</td>\n",
              "      <td>6,392,017</td>\n",
              "      <td>2,915,918</td>\n",
              "      <td>37,253,956</td>\n",
              "      <td>5,029,196</td>\n",
              "      <td>3,574,097</td>\n",
              "      <td>897,934</td>\n",
              "      <td>18,801,310</td>\n",
              "      <td>9,687,653</td>\n",
              "      <td>1,360,301</td>\n",
              "      <td>1,567,582</td>\n",
              "      <td>12,830,632</td>\n",
              "      <td>6,483,802</td>\n",
              "      <td>3,046,355</td>\n",
              "      <td>2,853,118</td>\n",
              "      <td>4,339,367</td>\n",
              "      <td>4,533,372</td>\n",
              "      <td>1,328,361</td>\n",
              "      <td>5,773,552</td>\n",
              "      <td>6,547,629</td>\n",
              "      <td>9,883,640</td>\n",
              "      <td>5,303,925</td>\n",
              "      <td>2,967,297</td>\n",
              "      <td>5,988,927</td>\n",
              "      <td>989,415</td>\n",
              "      <td>1,826,341</td>\n",
              "      <td>2,700,551</td>\n",
              "      <td>1,316,470</td>\n",
              "      <td>8,791,894</td>\n",
              "      <td>2059179</td>\n",
              "      <td>19378102</td>\n",
              "      <td>9535483</td>\n",
              "      <td>672591</td>\n",
              "      <td>11536504</td>\n",
              "      <td>3751351</td>\n",
              "      <td>3831074</td>\n",
              "      <td>12702379</td>\n",
              "      <td>1052567</td>\n",
              "      <td>4625364</td>\n",
              "      <td>814180</td>\n",
              "      <td>6346105</td>\n",
              "      <td>25,145,561</td>\n",
              "      <td>2,763,885</td>\n",
              "      <td>625,741</td>\n",
              "      <td>8,001,024</td>\n",
              "      <td>6,724,540</td>\n",
              "      <td>1,852,994</td>\n",
              "      <td>5,686,986</td>\n",
              "      <td>563,626</td>\n",
              "    </tr>\n",
              "    <tr>\n",
              "      <th>4</th>\n",
              "      <td>Persons under 5 years, percent, July 1, 2016, ...</td>\n",
              "      <td>NaN</td>\n",
              "      <td>6.00%</td>\n",
              "      <td>7.30%</td>\n",
              "      <td>6.30%</td>\n",
              "      <td>6.40%</td>\n",
              "      <td>6.30%</td>\n",
              "      <td>6.10%</td>\n",
              "      <td>5.20%</td>\n",
              "      <td>5.80%</td>\n",
              "      <td>5.50%</td>\n",
              "      <td>6.40%</td>\n",
              "      <td>6.40%</td>\n",
              "      <td>6.80%</td>\n",
              "      <td>6.00%</td>\n",
              "      <td>6.40%</td>\n",
              "      <td>6.40%</td>\n",
              "      <td>6.70%</td>\n",
              "      <td>6.20%</td>\n",
              "      <td>6.60%</td>\n",
              "      <td>4.90%</td>\n",
              "      <td>6.10%</td>\n",
              "      <td>5.30%</td>\n",
              "      <td>5.80%</td>\n",
              "      <td>6.40%</td>\n",
              "      <td>6.30%</td>\n",
              "      <td>6.10%</td>\n",
              "      <td>6.00%</td>\n",
              "      <td>7.00%</td>\n",
              "      <td>6.30%</td>\n",
              "      <td>4.80%</td>\n",
              "      <td>5.80%</td>\n",
              "      <td>0.062</td>\n",
              "      <td>0.059</td>\n",
              "      <td>0.06</td>\n",
              "      <td>0.073</td>\n",
              "      <td>0.06</td>\n",
              "      <td>0.068</td>\n",
              "      <td>0.058</td>\n",
              "      <td>0.056</td>\n",
              "      <td>0.052</td>\n",
              "      <td>0.059</td>\n",
              "      <td>0.071</td>\n",
              "      <td>0.061</td>\n",
              "      <td>7.20%</td>\n",
              "      <td>8.30%</td>\n",
              "      <td>4.90%</td>\n",
              "      <td>6.10%</td>\n",
              "      <td>6.20%</td>\n",
              "      <td>5.50%</td>\n",
              "      <td>5.80%</td>\n",
              "      <td>6.50%</td>\n",
              "    </tr>\n",
              "  </tbody>\n",
              "</table>\n",
              "</div>"
            ],
            "text/plain": [
              "                                                Fact  ...  Wyoming\n",
              "0       Population estimates, July 1, 2016,  (V2016)  ...  585,501\n",
              "1  Population estimates base, April 1, 2010,  (V2...  ...  563,767\n",
              "2  Population, percent change - April 1, 2010 (es...  ...    3.90%\n",
              "3                  Population, Census, April 1, 2010  ...  563,626\n",
              "4  Persons under 5 years, percent, July 1, 2016, ...  ...    6.50%\n",
              "\n",
              "[5 rows x 52 columns]"
            ]
          },
          "metadata": {
            "tags": []
          },
          "execution_count": 6
        }
      ]
    },
    {
      "cell_type": "markdown",
      "metadata": {
        "id": "4hMplt__RcPM"
      },
      "source": [
        "May want to change some of the int data types to floats"
      ]
    },
    {
      "cell_type": "code",
      "metadata": {
        "colab": {
          "base_uri": "https://localhost:8080/"
        },
        "id": "NfLrippLiQkf",
        "outputId": "bc8d57ad-5202-4e89-c013-cc3c29225c53"
      },
      "source": [
        "permit_data.info()"
      ],
      "execution_count": null,
      "outputs": [
        {
          "output_type": "stream",
          "text": [
            "<class 'pandas.core.frame.DataFrame'>\n",
            "RangeIndex: 12485 entries, 0 to 12484\n",
            "Data columns (total 27 columns):\n",
            " #   Column                     Non-Null Count  Dtype  \n",
            "---  ------                     --------------  -----  \n",
            " 0   month                      12485 non-null  object \n",
            " 1   state                      12485 non-null  object \n",
            " 2   permit                     12461 non-null  float64\n",
            " 3   permit_recheck             1100 non-null   float64\n",
            " 4   handgun                    12465 non-null  float64\n",
            " 5   long_gun                   12466 non-null  float64\n",
            " 6   other                      5500 non-null   float64\n",
            " 7   multiple                   12485 non-null  int64  \n",
            " 8   admin                      12462 non-null  float64\n",
            " 9   prepawn_handgun            10542 non-null  float64\n",
            " 10  prepawn_long_gun           10540 non-null  float64\n",
            " 11  prepawn_other              5115 non-null   float64\n",
            " 12  redemption_handgun         10545 non-null  float64\n",
            " 13  redemption_long_gun        10544 non-null  float64\n",
            " 14  redemption_other           5115 non-null   float64\n",
            " 15  returned_handgun           2200 non-null   float64\n",
            " 16  returned_long_gun          2145 non-null   float64\n",
            " 17  returned_other             1815 non-null   float64\n",
            " 18  rentals_handgun            990 non-null    float64\n",
            " 19  rentals_long_gun           825 non-null    float64\n",
            " 20  private_sale_handgun       2750 non-null   float64\n",
            " 21  private_sale_long_gun      2750 non-null   float64\n",
            " 22  private_sale_other         2750 non-null   float64\n",
            " 23  return_to_seller_handgun   2475 non-null   float64\n",
            " 24  return_to_seller_long_gun  2750 non-null   float64\n",
            " 25  return_to_seller_other     2255 non-null   float64\n",
            " 26  totals                     12485 non-null  int64  \n",
            "dtypes: float64(23), int64(2), object(2)\n",
            "memory usage: 2.6+ MB\n"
          ],
          "name": "stdout"
        }
      ]
    },
    {
      "cell_type": "code",
      "metadata": {
        "colab": {
          "base_uri": "https://localhost:8080/"
        },
        "id": "6g0RfefRPj4u",
        "outputId": "37a7d719-cda7-4f5e-ae0d-e22a3dcc47f0"
      },
      "source": [
        "permit_data[permit_data.isnull()].count"
      ],
      "execution_count": null,
      "outputs": [
        {
          "output_type": "execute_result",
          "data": {
            "text/plain": [
              "<bound method DataFrame.count of       month state  ...  return_to_seller_other  totals\n",
              "0       NaN   NaN  ...                     NaN     NaN\n",
              "1       NaN   NaN  ...                     NaN     NaN\n",
              "2       NaN   NaN  ...                     NaN     NaN\n",
              "3       NaN   NaN  ...                     NaN     NaN\n",
              "4       NaN   NaN  ...                     NaN     NaN\n",
              "...     ...   ...  ...                     ...     ...\n",
              "12480   NaN   NaN  ...                     NaN     NaN\n",
              "12481   NaN   NaN  ...                     NaN     NaN\n",
              "12482   NaN   NaN  ...                     NaN     NaN\n",
              "12483   NaN   NaN  ...                     NaN     NaN\n",
              "12484   NaN   NaN  ...                     NaN     NaN\n",
              "\n",
              "[12485 rows x 27 columns]>"
            ]
          },
          "metadata": {
            "tags": []
          },
          "execution_count": 12
        }
      ]
    },
    {
      "cell_type": "markdown",
      "metadata": {
        "id": "x-JecSghLSpF"
      },
      "source": [
        "The us census dtypes are obejcts meaning strings which means they need to change from strings to floats"
      ]
    },
    {
      "cell_type": "code",
      "metadata": {
        "colab": {
          "base_uri": "https://localhost:8080/"
        },
        "id": "FsgDUA7B1JIv",
        "outputId": "5f6bb4bd-a0b0-49fa-da8e-2832f3303142"
      },
      "source": [
        "us_census_data.info()"
      ],
      "execution_count": null,
      "outputs": [
        {
          "output_type": "stream",
          "text": [
            "<class 'pandas.core.frame.DataFrame'>\n",
            "RangeIndex: 85 entries, 0 to 84\n",
            "Data columns (total 52 columns):\n",
            " #   Column          Non-Null Count  Dtype \n",
            "---  ------          --------------  ----- \n",
            " 0   Fact            80 non-null     object\n",
            " 1   Fact Note       28 non-null     object\n",
            " 2   Alabama         65 non-null     object\n",
            " 3   Alaska          65 non-null     object\n",
            " 4   Arizona         65 non-null     object\n",
            " 5   Arkansas        65 non-null     object\n",
            " 6   California      65 non-null     object\n",
            " 7   Colorado        65 non-null     object\n",
            " 8   Connecticut     65 non-null     object\n",
            " 9   Delaware        65 non-null     object\n",
            " 10  Florida         65 non-null     object\n",
            " 11  Georgia         65 non-null     object\n",
            " 12  Hawaii          65 non-null     object\n",
            " 13  Idaho           65 non-null     object\n",
            " 14  Illinois        65 non-null     object\n",
            " 15  Indiana         65 non-null     object\n",
            " 16  Iowa            65 non-null     object\n",
            " 17  Kansas          65 non-null     object\n",
            " 18  Kentucky        65 non-null     object\n",
            " 19  Louisiana       65 non-null     object\n",
            " 20  Maine           65 non-null     object\n",
            " 21  Maryland        65 non-null     object\n",
            " 22  Massachusetts   65 non-null     object\n",
            " 23  Michigan        65 non-null     object\n",
            " 24  Minnesota       65 non-null     object\n",
            " 25  Mississippi     65 non-null     object\n",
            " 26  Missouri        65 non-null     object\n",
            " 27  Montana         65 non-null     object\n",
            " 28  Nebraska        65 non-null     object\n",
            " 29  Nevada          65 non-null     object\n",
            " 30  New Hampshire   65 non-null     object\n",
            " 31  New Jersey      65 non-null     object\n",
            " 32  New Mexico      65 non-null     object\n",
            " 33  New York        65 non-null     object\n",
            " 34  North Carolina  65 non-null     object\n",
            " 35  North Dakota    65 non-null     object\n",
            " 36  Ohio            65 non-null     object\n",
            " 37  Oklahoma        65 non-null     object\n",
            " 38  Oregon          65 non-null     object\n",
            " 39  Pennsylvania    65 non-null     object\n",
            " 40  Rhode Island    65 non-null     object\n",
            " 41  South Carolina  65 non-null     object\n",
            " 42  South Dakota    65 non-null     object\n",
            " 43  Tennessee       65 non-null     object\n",
            " 44  Texas           65 non-null     object\n",
            " 45  Utah            65 non-null     object\n",
            " 46  Vermont         65 non-null     object\n",
            " 47  Virginia        65 non-null     object\n",
            " 48  Washington      65 non-null     object\n",
            " 49  West Virginia   65 non-null     object\n",
            " 50  Wisconsin       65 non-null     object\n",
            " 51  Wyoming         65 non-null     object\n",
            "dtypes: object(52)\n",
            "memory usage: 34.7+ KB\n"
          ],
          "name": "stdout"
        }
      ]
    },
    {
      "cell_type": "markdown",
      "metadata": {
        "id": "bkXsWoLlH9kk"
      },
      "source": [
        "> **Tip**: You should _not_ perform too many operations in each cell. Create cells freely to explore your data. One option that you can take with this project is to do a lot of explorations in an initial notebook. These don't have to be organized, but make sure you use enough comments to understand the purpose of each code cell. Then, after you're done with your analysis, create a duplicate notebook where you will trim the excess and organize your steps so that you have a flowing, cohesive report.\n",
        "\n",
        "> **Tip**: Make sure that you keep your reader informed on the steps that you are taking in your investigation. Follow every code cell, or every set of related code cells, with a markdown cell to describe to the reader what was found in the preceding cell(s). Try to make it so that the reader can then understand what they will be seeing in the following cell(s).\n",
        "\n",
        "### Data Cleaning (Replace this with more specific notes!)"
      ]
    },
    {
      "cell_type": "code",
      "metadata": {
        "collapsed": true,
        "id": "rYHDOWcRH9kk"
      },
      "source": [
        "# After discussing the structure of the data and any problems that need to be\n",
        "#   cleaned, perform those cleaning steps in the second part of this section.\n"
      ],
      "execution_count": null,
      "outputs": []
    },
    {
      "cell_type": "code",
      "metadata": {
        "colab": {
          "base_uri": "https://localhost:8080/"
        },
        "id": "1yu8mEumuwyh",
        "outputId": "17d097a2-31dc-487d-d0b2-f91048ed82ed"
      },
      "source": [
        "print(f\"Shape of data: {permit_data.shape}\")\n",
        "print(f\"Number of missing values in the data:\\\n",
        "{permit_data.isnull().sum().sum()}\")\n",
        "print(f\"Number of duplicated values: {permit_data.duplicated().sum()}\")"
      ],
      "execution_count": null,
      "outputs": [
        {
          "output_type": "stream",
          "text": [
            "Shape of data: (12485, 27)\n",
            "Number of missing values in the data:154595\n",
            "Number of duplicated values: 0\n"
          ],
          "name": "stdout"
        }
      ]
    },
    {
      "cell_type": "markdown",
      "metadata": {
        "id": "5lJgyV_1B63g"
      },
      "source": [
        "Remove missing values "
      ]
    },
    {
      "cell_type": "code",
      "metadata": {
        "colab": {
          "base_uri": "https://localhost:8080/"
        },
        "id": "0ohR2HAPCBSS",
        "outputId": "3ab5f8a7-7bdc-4e9b-ed7d-7edf2cd46633"
      },
      "source": [
        "permit_data.dropna(inplace=True)\n",
        "\n",
        "# Verify missing values \n",
        "\n",
        "print(f\"Number of missing values in the data:\\\n",
        "{permit_data.isnull().sum().sum()}\")"
      ],
      "execution_count": null,
      "outputs": [
        {
          "output_type": "stream",
          "text": [
            "Number of missing values in the data:0\n"
          ],
          "name": "stdout"
        }
      ]
    },
    {
      "cell_type": "code",
      "metadata": {
        "id": "SN5Mve2QB53R"
      },
      "source": [
        ""
      ],
      "execution_count": null,
      "outputs": []
    },
    {
      "cell_type": "code",
      "metadata": {
        "colab": {
          "base_uri": "https://localhost:8080/"
        },
        "id": "5v2lkiIYQQio",
        "outputId": "dce5f3e5-61c0-491d-b1ac-007290571858"
      },
      "source": [
        "print(f\"Shape of data: {us_census_data.shape}\")\n",
        "print(f\"Number of missing values in the data:\\\n",
        "{us_census_data.isnull().sum().sum()}\")\n",
        "print(f\"Number of duplicated values: {us_census_data.duplicated().sum()}\")"
      ],
      "execution_count": null,
      "outputs": [
        {
          "output_type": "stream",
          "text": [
            "Shape of data: (85, 52)\n",
            "Number of missing values in the data:1062\n",
            "Number of duplicated values: 3\n"
          ],
          "name": "stdout"
        }
      ]
    },
    {
      "cell_type": "code",
      "metadata": {
        "colab": {
          "base_uri": "https://localhost:8080/"
        },
        "id": "-53Vcldvu8Gt",
        "outputId": "1c2d1fcb-5ef9-4abb-f136-2abda654f7c3"
      },
      "source": [
        "permit_data.duplicated().sum()"
      ],
      "execution_count": null,
      "outputs": [
        {
          "output_type": "execute_result",
          "data": {
            "text/plain": [
              "0"
            ]
          },
          "metadata": {
            "tags": []
          },
          "execution_count": 15
        }
      ]
    },
    {
      "cell_type": "code",
      "metadata": {
        "colab": {
          "base_uri": "https://localhost:8080/"
        },
        "id": "5RdF6cBTvTAx",
        "outputId": "ed663675-3de4-4644-a5f8-d635b9e317f7"
      },
      "source": [
        "us_census_data.isnull().sum()"
      ],
      "execution_count": null,
      "outputs": [
        {
          "output_type": "execute_result",
          "data": {
            "text/plain": [
              "Fact               5\n",
              "Fact Note         57\n",
              "Alabama           20\n",
              "Alaska            20\n",
              "Arizona           20\n",
              "Arkansas          20\n",
              "California        20\n",
              "Colorado          20\n",
              "Connecticut       20\n",
              "Delaware          20\n",
              "Florida           20\n",
              "Georgia           20\n",
              "Hawaii            20\n",
              "Idaho             20\n",
              "Illinois          20\n",
              "Indiana           20\n",
              "Iowa              20\n",
              "Kansas            20\n",
              "Kentucky          20\n",
              "Louisiana         20\n",
              "Maine             20\n",
              "Maryland          20\n",
              "Massachusetts     20\n",
              "Michigan          20\n",
              "Minnesota         20\n",
              "Mississippi       20\n",
              "Missouri          20\n",
              "Montana           20\n",
              "Nebraska          20\n",
              "Nevada            20\n",
              "New Hampshire     20\n",
              "New Jersey        20\n",
              "New Mexico        20\n",
              "New York          20\n",
              "North Carolina    20\n",
              "North Dakota      20\n",
              "Ohio              20\n",
              "Oklahoma          20\n",
              "Oregon            20\n",
              "Pennsylvania      20\n",
              "Rhode Island      20\n",
              "South Carolina    20\n",
              "South Dakota      20\n",
              "Tennessee         20\n",
              "Texas             20\n",
              "Utah              20\n",
              "Vermont           20\n",
              "Virginia          20\n",
              "Washington        20\n",
              "West Virginia     20\n",
              "Wisconsin         20\n",
              "Wyoming           20\n",
              "dtype: int64"
            ]
          },
          "metadata": {
            "tags": []
          },
          "execution_count": 16
        }
      ]
    },
    {
      "cell_type": "code",
      "metadata": {
        "colab": {
          "base_uri": "https://localhost:8080/"
        },
        "id": "pSjqDJ5TvYi5",
        "outputId": "c4625751-6be4-455d-c2cf-00c72fef4fb9"
      },
      "source": [
        "us_census_data.duplicated().sum()"
      ],
      "execution_count": null,
      "outputs": [
        {
          "output_type": "execute_result",
          "data": {
            "text/plain": [
              "3"
            ]
          },
          "metadata": {
            "tags": []
          },
          "execution_count": 19
        }
      ]
    },
    {
      "cell_type": "markdown",
      "metadata": {
        "id": "1_KncHBaH9kk"
      },
      "source": [
        "<a id='eda'></a>\n",
        "## Exploratory Data Analysis\n",
        "\n",
        "> **Tip**: Now that you've trimmed and cleaned your data, you're ready to move on to exploration. Compute statistics and create visualizations with the goal of addressing the research questions that you posed in the Introduction section. It is recommended that you be systematic with your approach. Look at one variable at a time, and then follow it up by looking at relationships between variables.\n",
        "\n",
        "### Research Question 1 (Replace this header name!)"
      ]
    },
    {
      "cell_type": "code",
      "metadata": {
        "collapsed": true,
        "id": "SPe663IdH9kl"
      },
      "source": [
        "# What census data ismost associated withhigh gun per capita?Which states have hadthe highest growth ingun registrations?What is the overalltrend of gunpurchases?\n"
      ],
      "execution_count": null,
      "outputs": []
    },
    {
      "cell_type": "markdown",
      "metadata": {
        "id": "EewBOFbcH9kl"
      },
      "source": [
        "### Research Question 2  (Replace this header name!)\n",
        "#What census data ismost associated withhigh gun per capita?Which states have hadthe highest growth ingun registrations?What is the overalltrend of gunpurchases?"
      ]
    },
    {
      "cell_type": "code",
      "metadata": {
        "collapsed": true,
        "id": "UV-oGEsHH9kl"
      },
      "source": [
        "# Continue to explore the data to address your additional research\n",
        "#   questions. Add more headers as needed if you have more questions to\n",
        "#   investigate.\n"
      ],
      "execution_count": null,
      "outputs": []
    },
    {
      "cell_type": "markdown",
      "metadata": {
        "id": "7xrW7rYOH9kl"
      },
      "source": [
        "<a id='conclusions'></a>\n",
        "## Conclusions\n",
        "\n",
        "> **Tip**: Finally, summarize your findings and the results that have been performed. Make sure that you are clear with regards to the limitations of your exploration. If you haven't done any statistical tests, do not imply any statistical conclusions. And make sure you avoid implying causation from correlation!\n",
        "\n",
        "> **Tip**: Once you are satisfied with your work, you should save a copy of the report in HTML or PDF form via the **File** > **Download as** submenu. Before exporting your report, check over it to make sure that the flow of the report is complete. You should probably remove all of the \"Tip\" quotes like this one so that the presentation is as tidy as possible. Congratulations!"
      ]
    },
    {
      "cell_type": "code",
      "metadata": {
        "collapsed": true,
        "id": "ItrVo8NVH9km"
      },
      "source": [
        ""
      ],
      "execution_count": null,
      "outputs": []
    }
  ]
}