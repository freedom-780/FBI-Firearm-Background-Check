{
  "nbformat": 4,
  "nbformat_minor": 0,
  "metadata": {
    "kernelspec": {
      "display_name": "Python 3",
      "language": "python",
      "name": "python3"
    },
    "language_info": {
      "codemirror_mode": {
        "name": "ipython",
        "version": 3
      },
      "file_extension": ".py",
      "mimetype": "text/x-python",
      "name": "python",
      "nbconvert_exporter": "python",
      "pygments_lexer": "ipython3",
      "version": "3.8.5"
    },
    "colab": {
      "name": "Firearm Background Check.ipynb",
      "provenance": [],
      "collapsed_sections": [
        "bkXsWoLlH9kk",
        "1_KncHBaH9kk",
        "EewBOFbcH9kl",
        "7xrW7rYOH9kl"
      ],
      "include_colab_link": true
    }
  },
  "cells": [
    {
      "cell_type": "markdown",
      "metadata": {
        "id": "view-in-github",
        "colab_type": "text"
      },
      "source": [
        "<a href=\"https://colab.research.google.com/github/freedom-780/FBI-Firearm-Background-Check/blob/main/Firearm_Background_Check.ipynb\" target=\"_parent\"><img src=\"https://colab.research.google.com/assets/colab-badge.svg\" alt=\"Open In Colab\"/></a>"
      ]
    },
    {
      "cell_type": "markdown",
      "metadata": {
        "id": "MPVWrgaQH9ki"
      },
      "source": [
        "<a id='intro'></a>\n",
        "## Introduction\n",
        "\n",
        "> The dataset from The National Instant Criminal Background Check System (NICS) is managed by the FBI  according to the Brady Handgun Violence Prevention Act of 1993 (Brady Act) -- fully implemented on Novemeber 30, 1998 -- and there are differences in state law in regards to requirements. Those that have valid ATF permits and for services and repair picked u by the same person don't require a background check. Data is collected with ATF Form 4473\n",
        "\n",
        "Types of background checks:\n",
        "\n",
        "* Handgun—(a) any firearm which has a short stock and is designed to be held and fired by the use of a single hand; and (b) any combination of parts from which a firearm described in paragraph (a) can be assembled.\n",
        "* Long Gun—a weapon designed or redesigned, made or remade, and intended to be fired from the shoulder, and designed or redesigned and made or remade to use the energy of the explosive in (a) a fixed metallic cartridge to fire a single projectile through a rifled bore for each single pull of the trigger; or (b) a fixed shotgun shell to fire through a smooth bore either a number of ball shot or a single projectile for each single pull of the trigger.\n",
        "* Other(might want to drop columns or check if they are outliers)—refers to frames, receivers, and other firearms that are neither handguns nor long guns (rifles or shotguns), such as firearms having a pistol grip that expel a shotgun shell, or National Firearms Act firearms, including silencers.\n",
        "\n",
        "Questions \n",
        "\n",
        "* Which type of gun sale is increasing the most?\n",
        "* Any trends between type of gun ownership and mass shootings?(https://github.com/StanfordGeospatialCenter/MSA/tree/master/Data)\n",
        "* WHat are the trends in background checks and mass shootings for states with the weakest policies?\n",
        "* Are there any intresting overall trends, like spikes in gun ownership for certain periods of time such such as policy changes?\n",
        "\n",
        "\n",
        "\n",
        "\n",
        "\n",
        "\n",
        "\n",
        "\n",
        "\n"
      ]
    },
    {
      "cell_type": "code",
      "metadata": {
        "collapsed": true,
        "id": "KvPn6EAXH9ki"
      },
      "source": [
        "# import packages \n",
        "import pandas as pd \n",
        "pd.options.display.float_format = '{:,.2f}'.format\n",
        "import numpy as np\n",
        "import seaborn as sns \n",
        "import matplotlib.pyplot as plt\n",
        "%matplotlib inline\n",
        "\n"
      ],
      "execution_count": null,
      "outputs": []
    },
    {
      "cell_type": "markdown",
      "metadata": {
        "id": "oqHiUFTvH9kj"
      },
      "source": [
        "<a id='wrangling'></a>\n",
        "## Data Wrangling\n",
        "\n",
        "> **Tip**: In this section of the report, you will load in the data, check for cleanliness, and then trim and clean your dataset for analysis. Make sure that you document your steps carefully and justify your cleaning decisions.\n",
        "\n",
        "### General Properties"
      ]
    },
    {
      "cell_type": "code",
      "metadata": {
        "collapsed": true,
        "id": "OHvBkDFgH9kj"
      },
      "source": [
        "# Import data at gun permits and mass shootings \n",
        "\n",
        "gun_data = \"https://github.com/freedom-780/FBI-Firearm-Background-Check/blob/main/gun_data.xlsx?raw=true\"\n",
        "gun_background_check = pd.read_excel(gun_data)\n",
        "\n",
        "standford_msa = \"https://raw.githubusercontent.com/freedom-780/FBI-Firearm-Background-Check/main/Stanford_MSA_Database.csv\"\n",
        "mass_shootings = pd.read_csv(standford_msa)\n",
        "\n",
        "\n",
        "\n",
        "\n"
      ],
      "execution_count": null,
      "outputs": []
    },
    {
      "cell_type": "code",
      "metadata": {
        "colab": {
          "base_uri": "https://localhost:8080/"
        },
        "id": "uTEu0OU2EXiX",
        "outputId": "0b7d9e37-7a83-4124-894d-63ada6e4d131"
      },
      "source": [
        "# Check to see the column names to figure out which ones are important\n",
        "gun_background_check.columns"
      ],
      "execution_count": null,
      "outputs": [
        {
          "output_type": "execute_result",
          "data": {
            "text/plain": [
              "Index(['month', 'state', 'permit', 'permit_recheck', 'handgun', 'long_gun',\n",
              "       'other', 'multiple', 'admin', 'prepawn_handgun', 'prepawn_long_gun',\n",
              "       'prepawn_other', 'redemption_handgun', 'redemption_long_gun',\n",
              "       'redemption_other', 'returned_handgun', 'returned_long_gun',\n",
              "       'returned_other', 'rentals_handgun', 'rentals_long_gun',\n",
              "       'private_sale_handgun', 'private_sale_long_gun', 'private_sale_other',\n",
              "       'return_to_seller_handgun', 'return_to_seller_long_gun',\n",
              "       'return_to_seller_other', 'totals'],\n",
              "      dtype='object')"
            ]
          },
          "metadata": {
            "tags": []
          },
          "execution_count": 72
        }
      ]
    },
    {
      "cell_type": "code",
      "metadata": {
        "colab": {
          "base_uri": "https://localhost:8080/"
        },
        "id": "8o1NRDsj4mDI",
        "outputId": "6fad4222-17fa-4c85-a369-e42b88794ced"
      },
      "source": [
        "# Check the number of columns an decide which ones to keep\n",
        "mass_shootings.columns"
      ],
      "execution_count": null,
      "outputs": [
        {
          "output_type": "execute_result",
          "data": {
            "text/plain": [
              "Index(['CaseID', 'Title', 'Location', 'City', 'State', 'Latitude', 'Longitude',\n",
              "       'Number of Civilian Fatalities', 'Number of Civilian Injured',\n",
              "       'Number of Enforcement Fatalities', 'Number of Enforcement Injured',\n",
              "       'Total Number of Fatalities', 'Total Number of Victims', 'Description',\n",
              "       'Date', 'Day of Week', 'Date - Detailed', 'Shooter Name',\n",
              "       'Number of shooters', 'Shooter Age(s)', 'Average Shooter Age',\n",
              "       'Shooter Sex', 'Shooter Race', 'Type of Gun - Detailed',\n",
              "       'Type of Gun - General', 'Number of Shotguns', 'Number of Rifles',\n",
              "       'Number of Handguns', 'Total Number of Guns',\n",
              "       'Number of Automatic Guns', 'Number of Semi-Automatic Guns',\n",
              "       'Fate of Shooter at the scene', 'Fate of Shooter',\n",
              "       'Shooter's Cause of Death', 'School Related', 'Place Type',\n",
              "       'Relationship to Incident Location', 'Targeted Victim/s - Detailed',\n",
              "       'Targeted Victim/s - General', 'Possible Motive - Detailed',\n",
              "       'Possible Motive - General', 'History of Mental Illness - Detailed',\n",
              "       'History of Mental Illness - General', 'Data Source 1', 'Data Source 2',\n",
              "       'Data Source 3', 'Data Source 4', 'Data Source 5', 'Data Source 6',\n",
              "       'Data Source 7', 'Military Experience', 'Class', 'Depreciation',\n",
              "       'Notes', 'Edit Date'],\n",
              "      dtype='object')"
            ]
          },
          "metadata": {
            "tags": []
          },
          "execution_count": 73
        }
      ]
    },
    {
      "cell_type": "markdown",
      "metadata": {
        "id": "H4dfaZBDUgjQ"
      },
      "source": [
        "Disgard the columns not needs for analysis. \n",
        "\n",
        "For the background check 'month', 'state, 'handgun', 'long_gun', 'other', 'multiple',private_sale_handgun', 'private_sale_long_gun', 'private_sale_other', 'totals' data only the columns most useful for the analysis are\n",
        "\n",
        "For mass shooting: "
      ]
    },
    {
      "cell_type": "code",
      "metadata": {
        "id": "-b-q-tifX6OV"
      },
      "source": [
        "# drop columns that are not needed for analysis\n",
        "gun_background_check.drop(gun_background_check.columns.difference(['month', 'state', 'handgun', 'long_gun', 'other', 'multiple', 'private_sale_handgun', 'private_sale_long_gun', 'private_sale_other', 'totals']), 1, inplace=True)"
      ],
      "execution_count": null,
      "outputs": []
    },
    {
      "cell_type": "code",
      "metadata": {
        "colab": {
          "base_uri": "https://localhost:8080/"
        },
        "id": "tWxli7ADiQ7U",
        "outputId": "6cb461b5-a3c1-4dff-a0fa-d69123388fba"
      },
      "source": [
        "# Check to see if the right columns were dropped \n",
        "gun_background_check.columns"
      ],
      "execution_count": null,
      "outputs": [
        {
          "output_type": "execute_result",
          "data": {
            "text/plain": [
              "Index(['month', 'state', 'handgun', 'long_gun', 'other', 'multiple',\n",
              "       'private_sale_handgun', 'private_sale_long_gun', 'private_sale_other',\n",
              "       'totals'],\n",
              "      dtype='object')"
            ]
          },
          "metadata": {
            "tags": []
          },
          "execution_count": 75
        }
      ]
    },
    {
      "cell_type": "code",
      "metadata": {
        "colab": {
          "base_uri": "https://localhost:8080/"
        },
        "id": "81iE1EhPidKK",
        "outputId": "8c42490b-1bda-474d-eeec-1d3ba94de8b3"
      },
      "source": [
        "# get info and see if data types are correct \n",
        "gun_background_check.info()"
      ],
      "execution_count": null,
      "outputs": [
        {
          "output_type": "stream",
          "text": [
            "<class 'pandas.core.frame.DataFrame'>\n",
            "RangeIndex: 12485 entries, 0 to 12484\n",
            "Data columns (total 10 columns):\n",
            " #   Column                 Non-Null Count  Dtype  \n",
            "---  ------                 --------------  -----  \n",
            " 0   month                  12485 non-null  object \n",
            " 1   state                  12485 non-null  object \n",
            " 2   handgun                12465 non-null  float64\n",
            " 3   long_gun               12466 non-null  float64\n",
            " 4   other                  5500 non-null   float64\n",
            " 5   multiple               12485 non-null  int64  \n",
            " 6   private_sale_handgun   2750 non-null   float64\n",
            " 7   private_sale_long_gun  2750 non-null   float64\n",
            " 8   private_sale_other     2750 non-null   float64\n",
            " 9   totals                 12485 non-null  int64  \n",
            "dtypes: float64(6), int64(2), object(2)\n",
            "memory usage: 975.5+ KB\n"
          ],
          "name": "stdout"
        }
      ]
    },
    {
      "cell_type": "markdown",
      "metadata": {
        "id": "-lYgItljX-4w"
      },
      "source": [
        ""
      ]
    },
    {
      "cell_type": "code",
      "metadata": {
        "id": "c298TvQ25IN5"
      },
      "source": [
        "# Drop the columns that are not needed \n",
        "mass_shootings.drop(mass_shootings.columns.difference(['State','Date','Type of Gun - General','Number of Shotguns','Number of Rifles','Number of Handguns','Total Number of Guns','Number of Automatic Guns','Number of Semi-Automatic Guns','Possible Motive - General','History of Mental Illness - General']), 1, inplace=True)"
      ],
      "execution_count": null,
      "outputs": []
    },
    {
      "cell_type": "code",
      "metadata": {
        "colab": {
          "base_uri": "https://localhost:8080/"
        },
        "id": "QCWOXGY159hA",
        "outputId": "82a8c2ad-eebe-49bc-f928-fb392abbd02a"
      },
      "source": [
        "# Check if the correct columns were dropped\n",
        "mass_shootings.columns"
      ],
      "execution_count": null,
      "outputs": [
        {
          "output_type": "execute_result",
          "data": {
            "text/plain": [
              "Index(['State', 'Date', 'Type of Gun - General', 'Number of Shotguns',\n",
              "       'Number of Rifles', 'Number of Handguns', 'Total Number of Guns',\n",
              "       'Number of Automatic Guns', 'Number of Semi-Automatic Guns',\n",
              "       'Possible Motive - General', 'History of Mental Illness - General'],\n",
              "      dtype='object')"
            ]
          },
          "metadata": {
            "tags": []
          },
          "execution_count": 80
        }
      ]
    },
    {
      "cell_type": "code",
      "metadata": {
        "colab": {
          "base_uri": "https://localhost:8080/"
        },
        "id": "NFLuPVOh5Cax",
        "outputId": "6edb377f-8ee0-41b2-8160-b29ce8c89b40"
      },
      "source": [
        "#Check data types of mass shooting\n",
        "mass_shootings.info()"
      ],
      "execution_count": null,
      "outputs": [
        {
          "output_type": "stream",
          "text": [
            "<class 'pandas.core.frame.DataFrame'>\n",
            "RangeIndex: 335 entries, 0 to 334\n",
            "Data columns (total 11 columns):\n",
            " #   Column                               Non-Null Count  Dtype \n",
            "---  ------                               --------------  ----- \n",
            " 0   State                                335 non-null    object\n",
            " 1   Date                                 335 non-null    object\n",
            " 2   Type of Gun - General                335 non-null    object\n",
            " 3   Number of Shotguns                   335 non-null    object\n",
            " 4   Number of Rifles                     335 non-null    object\n",
            " 5   Number of Handguns                   335 non-null    object\n",
            " 6   Total Number of Guns                 335 non-null    object\n",
            " 7   Number of Automatic Guns             335 non-null    object\n",
            " 8   Number of Semi-Automatic Guns        335 non-null    object\n",
            " 9   Possible Motive - General            333 non-null    object\n",
            " 10  History of Mental Illness - General  335 non-null    object\n",
            "dtypes: object(11)\n",
            "memory usage: 28.9+ KB\n"
          ],
          "name": "stdout"
        }
      ]
    },
    {
      "cell_type": "markdown",
      "metadata": {
        "id": "pMgc_ZSzE_4i"
      },
      "source": [
        "The goal is to change the columns that start with \"Number\" into float64 which will be accomplished in 4 steps"
      ]
    },
    {
      "cell_type": "code",
      "metadata": {
        "id": "2CFX9eOY6NZG"
      },
      "source": [
        "# Check a dictionary with desired data types to change \n",
        "mass_change_dtype = {'Number of Shotguns': 'float64', \n",
        "                     'Number of Rifles': 'float64', \n",
        "                     'Total Number of Guns': 'float64',\n",
        "                     'Number of Automatic Guns': 'float64',\n",
        "                     'Number of Semi-Automatic Guns': 'float64',\n",
        "                     'Number of Handguns': 'float64'\n",
        "                     }"
      ],
      "execution_count": null,
      "outputs": []
    },
    {
      "cell_type": "code",
      "metadata": {
        "colab": {
          "base_uri": "https://localhost:8080/"
        },
        "id": "_xNRiOqW7FVP",
        "outputId": "cffb236a-b0d2-48bd-b9ea-cdaa770d5b77"
      },
      "source": [
        "''' step 1: look at the unique values in each variable\n",
        "to determine what type of cleaning is required '''\n",
        "\n",
        "for x in list(mass_change_dtype.keys()):\n",
        "  print(x)\n",
        "  print(mass_shootings[x].unique())\n",
        "\n"
      ],
      "execution_count": null,
      "outputs": [
        {
          "output_type": "stream",
          "text": [
            "Number of Shotguns\n",
            "['1' '0' '2' 'Unknown' 'Handgun']\n",
            "Number of Rifles\n",
            "['3' '0' '1' '0 (1)' '2' 'Unknown']\n",
            "Total Number of Guns\n",
            "['7' '1' '2' '3' '6' '10' '4' '5' 'Unknown' '0']\n",
            "Number of Automatic Guns\n",
            "['0' '1(0)' '2' '1' 'Unknown']\n",
            "Number of Semi-Automatic Guns\n",
            "['1' '0' '1(2)' '3' '2' '4' 'Unknown']\n",
            "Number of Handguns\n",
            "['3' '1' '2' '0' '2 (1)' '4' '7' '5' 'Unknown']\n"
          ],
          "name": "stdout"
        }
      ]
    },
    {
      "cell_type": "code",
      "metadata": {
        "colab": {
          "base_uri": "https://localhost:8080/"
        },
        "id": "bucJguDw_Ly6",
        "outputId": "3484e9d7-94b2-4632-cf05-d78b082fa15a"
      },
      "source": [
        "''' step 2: find the rows in each key that require cleaning '''\n",
        "\n",
        "# seclect only rows with a parenthesis \n",
        "mask = mass_shootings['Number of Rifles'].str.contains('\\(')\n",
        "mask_1 = mass_shootings['Number of Automatic Guns'].str.contains('\\(')\n",
        "mask_2 = mass_shootings['Number of Semi-Automatic Guns'].str.contains('\\(')\n",
        "mask_3 = mass_shootings['Number of Handguns'].str.contains('\\(')\n",
        "\n",
        "print(mass_shootings.loc[mask,\"Number of Rifles\"])\n",
        "print(mass_shootings.loc[mask_1,\"Number of Automatic Guns\"])\n",
        "print(mass_shootings.loc[mask_2,\"Number of Semi-Automatic Guns\"])\n",
        "print(mass_shootings.loc[mask_3,\"Number of Handguns\"])\n"
      ],
      "execution_count": null,
      "outputs": [
        {
          "output_type": "stream",
          "text": [
            "15    0 (1)\n",
            "Name: Number of Rifles, dtype: object\n",
            "15    1(0)\n",
            "Name: Number of Automatic Guns, dtype: object\n",
            "15    1(2)\n",
            "Name: Number of Semi-Automatic Guns, dtype: object\n",
            "15    2 (1)\n",
            "Name: Number of Handguns, dtype: object\n"
          ],
          "name": "stdout"
        }
      ]
    },
    {
      "cell_type": "markdown",
      "metadata": {
        "id": "oImqwx10Gfyc"
      },
      "source": [
        "So, the values with parenthes are all in a single row. Now it's time to clean this row. "
      ]
    },
    {
      "cell_type": "code",
      "metadata": {
        "id": "OS3rlH_wG1rb"
      },
      "source": [
        "# clean data with \")\"\n",
        "\n",
        "# select only rows with parenthesis \n",
        "for x in list(mass_change_dtype.keys()):\n",
        "  # select only rows with parenthesis\n",
        "  mask_4 = mass_shootings[x].str.contains('\\(')\n",
        "  # make sure there are any relevant rows with a true mask value\n",
        "  if mask_4.any():\n",
        "    # set only rows with the issue equal to the first column\n",
        "    mass_shootings.loc[mask_4, x] = mass_shootings.loc[mask_4, x].str.split('\\(', expand=True).iloc[:,0].str.strip()\n"
      ],
      "execution_count": null,
      "outputs": []
    },
    {
      "cell_type": "code",
      "metadata": {
        "colab": {
          "base_uri": "https://localhost:8080/"
        },
        "id": "KJKHMpsPc5fN",
        "outputId": "3ed53c86-332a-4feb-afb5-e88eaed8b49b"
      },
      "source": [
        "# Check to see if the cleaning was done correctly \n",
        "\n",
        "for x in list(mass_change_dtype.keys()):\n",
        "  print(mass_shootings[x].unique())"
      ],
      "execution_count": null,
      "outputs": [
        {
          "output_type": "stream",
          "text": [
            "['1' '0' '2' 'Unknown' 'Handgun']\n",
            "['3' '0' '1' '2' 'Unknown']\n",
            "['7' '1' '2' '3' '6' '10' '4' '5' 'Unknown' '0']\n",
            "['0' '1' '2' 'Unknown']\n",
            "['1' '0' '3' '2' '4' 'Unknown']\n",
            "['3' '1' '2' '0' '4' '7' '5' 'Unknown']\n"
          ],
          "name": "stdout"
        }
      ]
    },
    {
      "cell_type": "code",
      "metadata": {
        "id": "2QjRruM1jJK8"
      },
      "source": [
        "# drop rows with unknown values \n",
        "for i in mass_shootings:\n",
        "  mass_shootings.drop(mass_shootings.index[mass_shootings[i] == 'Unknown'], inplace = True)\n",
        "  \n",
        "    \n",
        "  "
      ],
      "execution_count": 92,
      "outputs": []
    },
    {
      "cell_type": "code",
      "metadata": {
        "colab": {
          "base_uri": "https://localhost:8080/"
        },
        "id": "13zMyeOYjUJ4",
        "outputId": "80bd3cd0-9f35-41af-e609-e2a7b9d22479"
      },
      "source": [
        "\n",
        "for x in list(mass_change_dtype.keys()):\n",
        "  print(mass_shootings[x].unique())"
      ],
      "execution_count": 93,
      "outputs": [
        {
          "output_type": "stream",
          "text": [
            "['1' '0' '2']\n",
            "['3' '0' '1' '2']\n",
            "['7' '1' '2' '3' '6' '10' '4' '5']\n",
            "['0' '1' '2']\n",
            "['1' '0' '3' '2' '4']\n",
            "['3' '1' '2' '0' '4' '7' '5']\n"
          ],
          "name": "stdout"
        }
      ]
    },
    {
      "cell_type": "code",
      "metadata": {
        "id": "7yupL4Tzs_e-"
      },
      "source": [
        "#convert the columns in the keys to float64\n",
        "mass_shootings = mass_shootings.astype(mass_change_dtype)"
      ],
      "execution_count": 95,
      "outputs": []
    },
    {
      "cell_type": "code",
      "metadata": {
        "colab": {
          "base_uri": "https://localhost:8080/"
        },
        "id": "m4d4Fl9MtLzb",
        "outputId": "41c5661f-d2c7-4e67-d1e1-46875e9d42dd"
      },
      "source": [
        "mass_shootings.info()"
      ],
      "execution_count": 96,
      "outputs": [
        {
          "output_type": "stream",
          "text": [
            "<class 'pandas.core.frame.DataFrame'>\n",
            "Int64Index: 147 entries, 0 to 333\n",
            "Data columns (total 11 columns):\n",
            " #   Column                               Non-Null Count  Dtype  \n",
            "---  ------                               --------------  -----  \n",
            " 0   State                                147 non-null    object \n",
            " 1   Date                                 147 non-null    object \n",
            " 2   Type of Gun - General                147 non-null    object \n",
            " 3   Number of Shotguns                   147 non-null    float64\n",
            " 4   Number of Rifles                     147 non-null    float64\n",
            " 5   Number of Handguns                   147 non-null    float64\n",
            " 6   Total Number of Guns                 147 non-null    float64\n",
            " 7   Number of Automatic Guns             147 non-null    float64\n",
            " 8   Number of Semi-Automatic Guns        147 non-null    float64\n",
            " 9   Possible Motive - General            147 non-null    object \n",
            " 10  History of Mental Illness - General  147 non-null    object \n",
            "dtypes: float64(6), object(5)\n",
            "memory usage: 13.8+ KB\n"
          ],
          "name": "stdout"
        }
      ]
    },
    {
      "cell_type": "markdown",
      "metadata": {
        "id": "l3jSIevD5vlJ"
      },
      "source": [
        "Since the Columns are the proper data type for both values, its time to do some final cleaning "
      ]
    },
    {
      "cell_type": "code",
      "metadata": {
        "id": "hh99fnOFv93w",
        "colab": {
          "base_uri": "https://localhost:8080/"
        },
        "outputId": "07ba9016-7c65-483c-b66d-551114b5303c"
      },
      "source": [
        "# print statistics about permit data \n",
        "\n",
        "print(f\"Shape of gun background data: {gun_background_check.shape}\")\n",
        "print(f\"Number of mission values in gun background data:\\\n",
        "{gun_background_check.isnull().sum().sum()}\")\n",
        "print(f\"Number of duplicate values in gun background data:\\\n",
        "{gun_background_check.duplicated().sum()}\")"
      ],
      "execution_count": 98,
      "outputs": [
        {
          "output_type": "stream",
          "text": [
            "Shape of gun background data: (12485, 10)\n",
            "Number of mission values in gun background data:36229\n",
            "Number of duplicate values in gun background data:0\n"
          ],
          "name": "stdout"
        }
      ]
    },
    {
      "cell_type": "code",
      "metadata": {
        "id": "m3SiWp-YvEyO",
        "colab": {
          "base_uri": "https://localhost:8080/"
        },
        "outputId": "f22d2da6-0c79-4c99-ebb3-edc474932a22"
      },
      "source": [
        "gun_background_check.isnull().sum()"
      ],
      "execution_count": 99,
      "outputs": [
        {
          "output_type": "execute_result",
          "data": {
            "text/plain": [
              "month                       0\n",
              "state                       0\n",
              "handgun                    20\n",
              "long_gun                   19\n",
              "other                    6985\n",
              "multiple                    0\n",
              "private_sale_handgun     9735\n",
              "private_sale_long_gun    9735\n",
              "private_sale_other       9735\n",
              "totals                      0\n",
              "dtype: int64"
            ]
          },
          "metadata": {
            "tags": []
          },
          "execution_count": 99
        }
      ]
    },
    {
      "cell_type": "code",
      "metadata": {
        "id": "3itXLBOCvAnW"
      },
      "source": [
        ""
      ],
      "execution_count": null,
      "outputs": []
    },
    {
      "cell_type": "markdown",
      "metadata": {
        "id": "4JczUdMYtIGX"
      },
      "source": [
        "since private sales has so many null values(about 10,000 out of about 12,000), these columns should just be dropped"
      ]
    },
    {
      "cell_type": "code",
      "metadata": {
        "id": "mzycQ2SpAWzj"
      },
      "source": [
        "# print statistics about mass shootings data\n",
        "\n",
        "print(f\"Shape of mass shooting data: {mass_shootings.shape}\")\n",
        "print(f\"Number of mission values in mass shooting data: \\\n",
        "{mass_shootings.isnull().sum().sum()}\")\n",
        "print(f\"Number of duplicate values in mass shooting data: \\\n",
        "{mass_shootings.duplicated().sum()}\")"
      ],
      "execution_count": null,
      "outputs": []
    },
    {
      "cell_type": "code",
      "metadata": {
        "id": "Ui7377y0FNMj"
      },
      "source": [
        "mass_shootings_data.i"
      ],
      "execution_count": null,
      "outputs": []
    },
    {
      "cell_type": "code",
      "metadata": {
        "id": "yzf3kIU3EclO"
      },
      "source": [
        "mass_shootings_data.columns"
      ],
      "execution_count": null,
      "outputs": []
    },
    {
      "cell_type": "code",
      "metadata": {
        "id": "tuTuOkqxlhOl"
      },
      "source": [
        "us_census_data.columns\n"
      ],
      "execution_count": null,
      "outputs": []
    },
    {
      "cell_type": "markdown",
      "metadata": {
        "id": "nPZ1zmONQlxg"
      },
      "source": [
        "May want to change colums labels for U.S. census data and make it more concises  "
      ]
    },
    {
      "cell_type": "markdown",
      "metadata": {
        "id": "4hMplt__RcPM"
      },
      "source": [
        "May want to change some of the int data types to floats"
      ]
    },
    {
      "cell_type": "markdown",
      "metadata": {
        "id": "x-JecSghLSpF"
      },
      "source": [
        "The us census dtypes are obejcts meaning strings which means they need to change from strings to floats"
      ]
    },
    {
      "cell_type": "markdown",
      "metadata": {
        "id": "bkXsWoLlH9kk"
      },
      "source": [
        "> **Tip**: You should _not_ perform too many operations in each cell. Create cells freely to explore your data. One option that you can take with this project is to do a lot of explorations in an initial notebook. These don't have to be organized, but make sure you use enough comments to understand the purpose of each code cell. Then, after you're done with your analysis, create a duplicate notebook where you will trim the excess and organize your steps so that you have a flowing, cohesive report.\n",
        "\n",
        "> **Tip**: Make sure that you keep your reader informed on the steps that you are taking in your investigation. Follow every code cell, or every set of related code cells, with a markdown cell to describe to the reader what was found in the preceding cell(s). Try to make it so that the reader can then understand what they will be seeing in the following cell(s).\n",
        "\n",
        "### Data Cleaning (Replace this with more specific notes!)"
      ]
    },
    {
      "cell_type": "code",
      "metadata": {
        "collapsed": true,
        "id": "rYHDOWcRH9kk"
      },
      "source": [
        "# After discussing the structure of the data and any problems that need to be\n",
        "#   cleaned, perform those cleaning steps in the second part of this section.\n"
      ],
      "execution_count": null,
      "outputs": []
    },
    {
      "cell_type": "code",
      "metadata": {
        "id": "1yu8mEumuwyh"
      },
      "source": [
        "print(f\"Shape of data: {permit_data.shape}\")\n",
        "print(f\"Number of missing values in the data:\\\n",
        "{permit_data.isnull().sum().sum()}\")\n",
        "print(f\"Number of duplicated values: {permit_data.duplicated().sum()}\")"
      ],
      "execution_count": null,
      "outputs": []
    },
    {
      "cell_type": "markdown",
      "metadata": {
        "id": "5lJgyV_1B63g"
      },
      "source": [
        "Remove missing values "
      ]
    },
    {
      "cell_type": "code",
      "metadata": {
        "id": "0ohR2HAPCBSS"
      },
      "source": [
        "permit_data.dropna(inplace=True)\n",
        "\n",
        "# Verify missing values \n",
        "\n",
        "print(f\"Number of missing values in the data:\\\n",
        "{permit_data.isnull().sum().sum()}\")"
      ],
      "execution_count": null,
      "outputs": []
    },
    {
      "cell_type": "code",
      "metadata": {
        "id": "SN5Mve2QB53R"
      },
      "source": [
        ""
      ],
      "execution_count": null,
      "outputs": []
    },
    {
      "cell_type": "code",
      "metadata": {
        "id": "5v2lkiIYQQio"
      },
      "source": [
        "print(f\"Shape of data: {us_census_data.shape}\")\n",
        "print(f\"Number of missing values in the data:\\\n",
        "{us_census_data.isnull().sum().sum()}\")\n",
        "print(f\"Number of duplicated values: {us_census_data.duplicated().sum()}\")"
      ],
      "execution_count": null,
      "outputs": []
    },
    {
      "cell_type": "code",
      "metadata": {
        "id": "-53Vcldvu8Gt"
      },
      "source": [
        "permit_data.duplicated().sum()"
      ],
      "execution_count": null,
      "outputs": []
    },
    {
      "cell_type": "code",
      "metadata": {
        "id": "5RdF6cBTvTAx"
      },
      "source": [
        "us_census_data.isnull().sum()"
      ],
      "execution_count": null,
      "outputs": []
    },
    {
      "cell_type": "code",
      "metadata": {
        "id": "pSjqDJ5TvYi5"
      },
      "source": [
        "us_census_data.duplicated().sum()"
      ],
      "execution_count": null,
      "outputs": []
    },
    {
      "cell_type": "markdown",
      "metadata": {
        "id": "1_KncHBaH9kk"
      },
      "source": [
        "<a id='eda'></a>\n",
        "## Exploratory Data Analysis\n",
        "\n",
        "> **Tip**: Now that you've trimmed and cleaned your data, you're ready to move on to exploration. Compute statistics and create visualizations with the goal of addressing the research questions that you posed in the Introduction section. It is recommended that you be systematic with your approach. Look at one variable at a time, and then follow it up by looking at relationships between variables.\n",
        "\n",
        "### Research Question 1 (Replace this header name!)"
      ]
    },
    {
      "cell_type": "code",
      "metadata": {
        "collapsed": true,
        "id": "SPe663IdH9kl"
      },
      "source": [
        "# What census data ismost associated withhigh gun per capita?Which states have hadthe highest growth ingun registrations?What is the overalltrend of gunpurchases?\n"
      ],
      "execution_count": null,
      "outputs": []
    },
    {
      "cell_type": "markdown",
      "metadata": {
        "id": "EewBOFbcH9kl"
      },
      "source": [
        "### Research Question 2  (Replace this header name!)\n",
        "#What census data ismost associated withhigh gun per capita?Which states have hadthe highest growth ingun registrations?What is the overalltrend of gunpurchases?"
      ]
    },
    {
      "cell_type": "code",
      "metadata": {
        "collapsed": true,
        "id": "UV-oGEsHH9kl"
      },
      "source": [
        "# Continue to explore the data to address your additional research\n",
        "#   questions. Add more headers as needed if you have more questions to\n",
        "#   investigate.\n"
      ],
      "execution_count": null,
      "outputs": []
    },
    {
      "cell_type": "markdown",
      "metadata": {
        "id": "7xrW7rYOH9kl"
      },
      "source": [
        "<a id='conclusions'></a>\n",
        "## Conclusions\n",
        "\n",
        "> **Tip**: Finally, summarize your findings and the results that have been performed. Make sure that you are clear with regards to the limitations of your exploration. If you haven't done any statistical tests, do not imply any statistical conclusions. And make sure you avoid implying causation from correlation!\n",
        "\n",
        "> **Tip**: Once you are satisfied with your work, you should save a copy of the report in HTML or PDF form via the **File** > **Download as** submenu. Before exporting your report, check over it to make sure that the flow of the report is complete. You should probably remove all of the \"Tip\" quotes like this one so that the presentation is as tidy as possible. Congratulations!"
      ]
    },
    {
      "cell_type": "code",
      "metadata": {
        "collapsed": true,
        "id": "ItrVo8NVH9km"
      },
      "source": [
        ""
      ],
      "execution_count": null,
      "outputs": []
    }
  ]
}